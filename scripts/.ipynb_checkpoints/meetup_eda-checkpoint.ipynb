{
 "cells": [
  {
   "cell_type": "markdown",
   "metadata": {},
   "source": [
    "# 1. Required libraries"
   ]
  },
  {
   "cell_type": "code",
   "execution_count": 1,
   "metadata": {
    "collapsed": true
   },
   "outputs": [],
   "source": [
    "import datetime\n",
    "import feature_engg as engg\n",
    "import feature_util as utl\n",
    "import json\n",
    "import math\n",
    "import matplotlib.pyplot as plt\n",
    "import numpy as np\n",
    "import os\n",
    "import pandas as pd\n",
    "from sklearn import metrics\n",
    "from sklearn import tree\n",
    "from sklearn import linear_model\n",
    "from sklearn import model_selection\n",
    "import warnings\n",
    "\n",
    "warnings.filterwarnings('ignore')"
   ]
  },
  {
   "cell_type": "markdown",
   "metadata": {},
   "source": [
    "# 2. Load data"
   ]
  },
  {
   "cell_type": "code",
   "execution_count": 14,
   "metadata": {
    "collapsed": false
   },
   "outputs": [
    {
     "name": "stdout",
     "output_type": "stream",
     "text": [
      "<type 'list'>\n",
      "<type 'list'>\n",
      "<type 'list'>\n",
      "<type 'list'>\n"
     ]
    }
   ],
   "source": [
    "# cities\n",
    "df_cities = pd.read_csv('../data/world_cities.txt', sep=\",\", encoding='latin1')\n",
    "df_cities = df_cities[['country', 'city', 'lat', 'lon']]\n",
    "\n",
    "# events\n",
    "df_events = utl.get_df('../data/events.json', encoding='latin1')\n",
    "df_events.columns = ['e_' + str(col) for col in df_events.columns]\n",
    "\n",
    "# groups\n",
    "df_groups = utl.get_df('../data/groups.json', encoding='utf-8')\n",
    "df_groups.columns = ['g_' + str(col) for col in df_groups.columns]\n",
    "\n",
    "# users\n",
    "df_users = utl.get_df('../data/users.json', encoding='utf-8')\n",
    "df_users['city'] = df_users.city.str.lower()\n",
    "\n",
    "# venues\n",
    "df_venues = utl.get_df('../data/venues.json', encoding='utf-8')\n",
    "df_venues['city'] = df_venues.city.str.lower()\n",
    "df_venues.columns = ['v_' + str(col) for col in df_venues.columns]"
   ]
  },
  {
   "cell_type": "code",
   "execution_count": 15,
   "metadata": {
    "collapsed": true
   },
   "outputs": [],
   "source": [
    "df_users = df_users.sort(['user_id'], ascending=[1])\n",
    "df_users = df_users.merge(df_cities, on=['country', 'city'], how='left')\n",
    "df_users = df_users.drop_duplicates(subset=['user_id'], keep='first')\n",
    "df_users.columns = ['u_' + str(col)  for col in df_users.columns]"
   ]
  },
  {
   "cell_type": "markdown",
   "metadata": {},
   "source": [
    "# 3. Features"
   ]
  },
  {
   "cell_type": "markdown",
   "metadata": {},
   "source": [
    "## 3.1 Event attributes"
   ]
  },
  {
   "cell_type": "code",
   "execution_count": 16,
   "metadata": {
    "collapsed": false
   },
   "outputs": [
    {
     "data": {
      "text/html": [
       "<div>\n",
       "<table border=\"1\" class=\"dataframe\">\n",
       "  <thead>\n",
       "    <tr style=\"text-align: right;\">\n",
       "      <th></th>\n",
       "      <th>e_venue_id</th>\n",
       "      <th>e_rsvp_limit</th>\n",
       "      <th>e_created</th>\n",
       "      <th>e_time</th>\n",
       "      <th>e_duration</th>\n",
       "    </tr>\n",
       "  </thead>\n",
       "  <tbody>\n",
       "    <tr>\n",
       "      <th>count</th>\n",
       "      <td>6200.000000</td>\n",
       "      <td>2211.000000</td>\n",
       "      <td>6.200000e+03</td>\n",
       "      <td>6.183000e+03</td>\n",
       "      <td>2.600000e+03</td>\n",
       "    </tr>\n",
       "    <tr>\n",
       "      <th>mean</th>\n",
       "      <td>67959.885484</td>\n",
       "      <td>47.700588</td>\n",
       "      <td>1.386568e+12</td>\n",
       "      <td>1.395698e+12</td>\n",
       "      <td>2.411515e+07</td>\n",
       "    </tr>\n",
       "    <tr>\n",
       "      <th>std</th>\n",
       "      <td>488.481235</td>\n",
       "      <td>42.778604</td>\n",
       "      <td>4.081886e+10</td>\n",
       "      <td>3.952652e+10</td>\n",
       "      <td>6.576107e+07</td>\n",
       "    </tr>\n",
       "    <tr>\n",
       "      <th>min</th>\n",
       "      <td>67082.000000</td>\n",
       "      <td>1.000000</td>\n",
       "      <td>1.172849e+12</td>\n",
       "      <td>1.173946e+12</td>\n",
       "      <td>2.700000e+06</td>\n",
       "    </tr>\n",
       "    <tr>\n",
       "      <th>25%</th>\n",
       "      <td>67563.000000</td>\n",
       "      <td>20.000000</td>\n",
       "      <td>1.361802e+12</td>\n",
       "      <td>1.371807e+12</td>\n",
       "      <td>7.200000e+06</td>\n",
       "    </tr>\n",
       "    <tr>\n",
       "      <th>50%</th>\n",
       "      <td>67951.000000</td>\n",
       "      <td>40.000000</td>\n",
       "      <td>1.393498e+12</td>\n",
       "      <td>1.404758e+12</td>\n",
       "      <td>1.080000e+07</td>\n",
       "    </tr>\n",
       "    <tr>\n",
       "      <th>75%</th>\n",
       "      <td>68345.000000</td>\n",
       "      <td>60.000000</td>\n",
       "      <td>1.420825e+12</td>\n",
       "      <td>1.427378e+12</td>\n",
       "      <td>1.620000e+07</td>\n",
       "    </tr>\n",
       "    <tr>\n",
       "      <th>max</th>\n",
       "      <td>68812.000000</td>\n",
       "      <td>500.000000</td>\n",
       "      <td>1.440671e+12</td>\n",
       "      <td>1.472015e+12</td>\n",
       "      <td>1.148400e+09</td>\n",
       "    </tr>\n",
       "  </tbody>\n",
       "</table>\n",
       "</div>"
      ],
      "text/plain": [
       "         e_venue_id  e_rsvp_limit     e_created        e_time    e_duration\n",
       "count   6200.000000   2211.000000  6.200000e+03  6.183000e+03  2.600000e+03\n",
       "mean   67959.885484     47.700588  1.386568e+12  1.395698e+12  2.411515e+07\n",
       "std      488.481235     42.778604  4.081886e+10  3.952652e+10  6.576107e+07\n",
       "min    67082.000000      1.000000  1.172849e+12  1.173946e+12  2.700000e+06\n",
       "25%    67563.000000     20.000000  1.361802e+12  1.371807e+12  7.200000e+06\n",
       "50%    67951.000000     40.000000  1.393498e+12  1.404758e+12  1.080000e+07\n",
       "75%    68345.000000     60.000000  1.420825e+12  1.427378e+12  1.620000e+07\n",
       "max    68812.000000    500.000000  1.440671e+12  1.472015e+12  1.148400e+09"
      ]
     },
     "execution_count": 16,
     "metadata": {},
     "output_type": "execute_result"
    }
   ],
   "source": [
    "df_events.describe()"
   ]
  },
  {
   "cell_type": "code",
   "execution_count": 17,
   "metadata": {
    "collapsed": false
   },
   "outputs": [],
   "source": [
    "df_events = df_events.assign(e_event_id=[i+1 for i in xrange(len(df_events))])\n",
    "df_events = df_events[df_events.e_time.notnull()]\n",
    "df_events['e_datetime'] = pd.to_datetime((df_events['e_time']/1000).astype(int), unit='s')\n",
    "df_events['e_hour'] = df_events.e_datetime.dt.hour\n",
    "df_events['e_dow'] = df_events.e_datetime.dt.dayofweek\n",
    "df_events['e_reg_hours'] = (df_events.e_time - df_events.e_created) / 3600000"
   ]
  },
  {
   "cell_type": "markdown",
   "metadata": {},
   "source": [
    "## 3.2 Group attributes"
   ]
  },
  {
   "cell_type": "code",
   "execution_count": 18,
   "metadata": {
    "collapsed": false
   },
   "outputs": [
    {
     "data": {
      "text/html": [
       "<div>\n",
       "<table border=\"1\" class=\"dataframe\">\n",
       "  <thead>\n",
       "    <tr style=\"text-align: right;\">\n",
       "      <th></th>\n",
       "      <th>g_created</th>\n",
       "      <th>g_lon</th>\n",
       "      <th>g_lat</th>\n",
       "    </tr>\n",
       "  </thead>\n",
       "  <tbody>\n",
       "    <tr>\n",
       "      <th>count</th>\n",
       "      <td>7.110000e+02</td>\n",
       "      <td>711.000000</td>\n",
       "      <td>711.000000</td>\n",
       "    </tr>\n",
       "    <tr>\n",
       "      <th>mean</th>\n",
       "      <td>1.394015e+12</td>\n",
       "      <td>5.269170</td>\n",
       "      <td>51.965724</td>\n",
       "    </tr>\n",
       "    <tr>\n",
       "      <th>std</th>\n",
       "      <td>4.303401e+10</td>\n",
       "      <td>0.889074</td>\n",
       "      <td>0.572717</td>\n",
       "    </tr>\n",
       "    <tr>\n",
       "      <th>min</th>\n",
       "      <td>1.172849e+12</td>\n",
       "      <td>3.130000</td>\n",
       "      <td>50.930000</td>\n",
       "    </tr>\n",
       "    <tr>\n",
       "      <th>25%</th>\n",
       "      <td>1.372933e+12</td>\n",
       "      <td>4.890000</td>\n",
       "      <td>51.439999</td>\n",
       "    </tr>\n",
       "    <tr>\n",
       "      <th>50%</th>\n",
       "      <td>1.407404e+12</td>\n",
       "      <td>4.890000</td>\n",
       "      <td>52.099998</td>\n",
       "    </tr>\n",
       "    <tr>\n",
       "      <th>75%</th>\n",
       "      <td>1.426360e+12</td>\n",
       "      <td>5.470000</td>\n",
       "      <td>52.369999</td>\n",
       "    </tr>\n",
       "    <tr>\n",
       "      <th>max</th>\n",
       "      <td>1.440612e+12</td>\n",
       "      <td>7.200000</td>\n",
       "      <td>53.230000</td>\n",
       "    </tr>\n",
       "  </tbody>\n",
       "</table>\n",
       "</div>"
      ],
      "text/plain": [
       "          g_created       g_lon       g_lat\n",
       "count  7.110000e+02  711.000000  711.000000\n",
       "mean   1.394015e+12    5.269170   51.965724\n",
       "std    4.303401e+10    0.889074    0.572717\n",
       "min    1.172849e+12    3.130000   50.930000\n",
       "25%    1.372933e+12    4.890000   51.439999\n",
       "50%    1.407404e+12    4.890000   52.099998\n",
       "75%    1.426360e+12    5.470000   52.369999\n",
       "max    1.440612e+12    7.200000   53.230000"
      ]
     },
     "execution_count": 18,
     "metadata": {},
     "output_type": "execute_result"
    }
   ],
   "source": [
    "df_groups.describe()"
   ]
  },
  {
   "cell_type": "markdown",
   "metadata": {},
   "source": [
    "## 3.3 User attributes"
   ]
  },
  {
   "cell_type": "code",
   "execution_count": 19,
   "metadata": {
    "collapsed": false
   },
   "outputs": [
    {
     "data": {
      "text/html": [
       "<div>\n",
       "<table border=\"1\" class=\"dataframe\">\n",
       "  <thead>\n",
       "    <tr style=\"text-align: right;\">\n",
       "      <th></th>\n",
       "      <th>u_user_id</th>\n",
       "      <th>u_lat</th>\n",
       "      <th>u_lon</th>\n",
       "    </tr>\n",
       "  </thead>\n",
       "  <tbody>\n",
       "    <tr>\n",
       "      <th>count</th>\n",
       "      <td>57773.000000</td>\n",
       "      <td>56965.000000</td>\n",
       "      <td>56965.000000</td>\n",
       "    </tr>\n",
       "    <tr>\n",
       "      <th>mean</th>\n",
       "      <td>38193.992955</td>\n",
       "      <td>50.574371</td>\n",
       "      <td>3.689720</td>\n",
       "    </tr>\n",
       "    <tr>\n",
       "      <th>std</th>\n",
       "      <td>16678.304214</td>\n",
       "      <td>8.167055</td>\n",
       "      <td>21.997665</td>\n",
       "    </tr>\n",
       "    <tr>\n",
       "      <th>min</th>\n",
       "      <td>9307.000000</td>\n",
       "      <td>-43.533333</td>\n",
       "      <td>-170.275000</td>\n",
       "    </tr>\n",
       "    <tr>\n",
       "      <th>25%</th>\n",
       "      <td>23751.000000</td>\n",
       "      <td>51.514125</td>\n",
       "      <td>4.500000</td>\n",
       "    </tr>\n",
       "    <tr>\n",
       "      <th>50%</th>\n",
       "      <td>38194.000000</td>\n",
       "      <td>52.093813</td>\n",
       "      <td>4.916667</td>\n",
       "    </tr>\n",
       "    <tr>\n",
       "      <th>75%</th>\n",
       "      <td>52637.000000</td>\n",
       "      <td>52.350000</td>\n",
       "      <td>5.389526</td>\n",
       "    </tr>\n",
       "    <tr>\n",
       "      <th>max</th>\n",
       "      <td>67081.000000</td>\n",
       "      <td>64.200000</td>\n",
       "      <td>174.783333</td>\n",
       "    </tr>\n",
       "  </tbody>\n",
       "</table>\n",
       "</div>"
      ],
      "text/plain": [
       "          u_user_id         u_lat         u_lon\n",
       "count  57773.000000  56965.000000  56965.000000\n",
       "mean   38193.992955     50.574371      3.689720\n",
       "std    16678.304214      8.167055     21.997665\n",
       "min     9307.000000    -43.533333   -170.275000\n",
       "25%    23751.000000     51.514125      4.500000\n",
       "50%    38194.000000     52.093813      4.916667\n",
       "75%    52637.000000     52.350000      5.389526\n",
       "max    67081.000000     64.200000    174.783333"
      ]
     },
     "execution_count": 19,
     "metadata": {},
     "output_type": "execute_result"
    }
   ],
   "source": [
    "df_users.describe()"
   ]
  },
  {
   "cell_type": "code",
   "execution_count": 20,
   "metadata": {
    "collapsed": true
   },
   "outputs": [],
   "source": [
    "df_users = df_users[df_users.u_lat.notnull()]"
   ]
  },
  {
   "cell_type": "markdown",
   "metadata": {},
   "source": [
    "## 3.4 Venue attributes"
   ]
  },
  {
   "cell_type": "code",
   "execution_count": 21,
   "metadata": {
    "collapsed": false
   },
   "outputs": [
    {
     "data": {
      "text/html": [
       "<div>\n",
       "<table border=\"1\" class=\"dataframe\">\n",
       "  <thead>\n",
       "    <tr style=\"text-align: right;\">\n",
       "      <th></th>\n",
       "      <th>v_venue_id</th>\n",
       "      <th>v_lon</th>\n",
       "      <th>v_lat</th>\n",
       "    </tr>\n",
       "  </thead>\n",
       "  <tbody>\n",
       "    <tr>\n",
       "      <th>count</th>\n",
       "      <td>1732.00000</td>\n",
       "      <td>1731.000000</td>\n",
       "      <td>1731.000000</td>\n",
       "    </tr>\n",
       "    <tr>\n",
       "      <th>mean</th>\n",
       "      <td>67947.50000</td>\n",
       "      <td>4.626416</td>\n",
       "      <td>50.060030</td>\n",
       "    </tr>\n",
       "    <tr>\n",
       "      <th>std</th>\n",
       "      <td>500.12965</td>\n",
       "      <td>8.932724</td>\n",
       "      <td>9.779613</td>\n",
       "    </tr>\n",
       "    <tr>\n",
       "      <th>min</th>\n",
       "      <td>67082.00000</td>\n",
       "      <td>-122.655571</td>\n",
       "      <td>-33.865340</td>\n",
       "    </tr>\n",
       "    <tr>\n",
       "      <th>25%</th>\n",
       "      <td>67514.75000</td>\n",
       "      <td>4.489095</td>\n",
       "      <td>51.447849</td>\n",
       "    </tr>\n",
       "    <tr>\n",
       "      <th>50%</th>\n",
       "      <td>67947.50000</td>\n",
       "      <td>4.896400</td>\n",
       "      <td>52.092468</td>\n",
       "    </tr>\n",
       "    <tr>\n",
       "      <th>75%</th>\n",
       "      <td>68380.25000</td>\n",
       "      <td>5.277729</td>\n",
       "      <td>52.366380</td>\n",
       "    </tr>\n",
       "    <tr>\n",
       "      <th>max</th>\n",
       "      <td>68813.00000</td>\n",
       "      <td>151.206670</td>\n",
       "      <td>59.327885</td>\n",
       "    </tr>\n",
       "  </tbody>\n",
       "</table>\n",
       "</div>"
      ],
      "text/plain": [
       "        v_venue_id        v_lon        v_lat\n",
       "count   1732.00000  1731.000000  1731.000000\n",
       "mean   67947.50000     4.626416    50.060030\n",
       "std      500.12965     8.932724     9.779613\n",
       "min    67082.00000  -122.655571   -33.865340\n",
       "25%    67514.75000     4.489095    51.447849\n",
       "50%    67947.50000     4.896400    52.092468\n",
       "75%    68380.25000     5.277729    52.366380\n",
       "max    68813.00000   151.206670    59.327885"
      ]
     },
     "execution_count": 21,
     "metadata": {},
     "output_type": "execute_result"
    }
   ],
   "source": [
    "df_venues.describe()"
   ]
  },
  {
   "cell_type": "markdown",
   "metadata": {},
   "source": [
    "## 3.5 Feature engineering"
   ]
  },
  {
   "cell_type": "code",
   "execution_count": 22,
   "metadata": {
    "collapsed": false
   },
   "outputs": [
    {
     "data": {
      "text/plain": [
       "(6183, 15)"
      ]
     },
     "execution_count": 22,
     "metadata": {},
     "output_type": "execute_result"
    }
   ],
   "source": [
    "df_events.shape"
   ]
  },
  {
   "cell_type": "code",
   "execution_count": 25,
   "metadata": {
    "collapsed": false
   },
   "outputs": [
    {
     "data": {
      "text/plain": [
       "Index([u'e_status', u'e_venue_id', u'e_description', u'e_rsvps',\n",
       "       u'e_rsvp_limit', u'e_created', u'e_time', u'e_duration', u'e_group_id',\n",
       "       u'e_name', u'e_event_id', u'e_datetime', u'e_hour', u'e_dow',\n",
       "       u'e_reg_hours', u'v_city', u'v_venue_id', u'v_name', u'v_country',\n",
       "       u'v_lon', u'v_lat', u'g_city', u'g_description', u'g_created',\n",
       "       u'g_topics', u'g_lon', u'g_link', u'g_lat', u'g_group_id', u'g_name'],\n",
       "      dtype='object')"
      ]
     },
     "execution_count": 25,
     "metadata": {},
     "output_type": "execute_result"
    }
   ],
   "source": [
    "df_events.columns"
   ]
  },
  {
   "cell_type": "code",
   "execution_count": 24,
   "metadata": {
    "collapsed": false
   },
   "outputs": [],
   "source": [
    "df_events = df_events.merge(df_venues, left_on='e_venue_id', right_on='v_venue_id', how='left')\n",
    "df_events = df_events.merge(df_groups, left_on='e_group_id', right_on='g_group_id', how='left')"
   ]
  },
  {
   "cell_type": "code",
   "execution_count": 26,
   "metadata": {
    "collapsed": true
   },
   "outputs": [],
   "source": [
    "del df_events['v_venue_id']\n",
    "del df_events['g_group_id']"
   ]
  },
  {
   "cell_type": "code",
   "execution_count": 28,
   "metadata": {
    "collapsed": false
   },
   "outputs": [],
   "source": [
    "df_events_flat = utl.flatten_list(df_events, 'e_rsvps', reset_index=True)\n",
    "df_events_flat = utl.flatten_dict(df_events_flat, 'e_rsvps')\n",
    "df_events_flat['e_response_num'] = df_events_flat.response.apply(lambda x: engg.label_attendance(x))\n",
    "df_events_flat['e_total_attend'] = df_events_flat.e_response_num + df_events_flat.guests"
   ]
  },
  {
   "cell_type": "code",
   "execution_count": 38,
   "metadata": {
    "collapsed": false
   },
   "outputs": [
    {
     "data": {
      "text/plain": [
       "e_status               0\n",
       "e_venue_id             0\n",
       "e_description       2285\n",
       "e_rsvp_limit       81068\n",
       "e_created              0\n",
       "e_time                 0\n",
       "e_duration        106546\n",
       "e_group_id             0\n",
       "e_name                 0\n",
       "e_event_id             0\n",
       "e_datetime             0\n",
       "e_hour                 0\n",
       "e_dow                  0\n",
       "e_reg_hours            0\n",
       "v_city                 0\n",
       "v_name                 0\n",
       "v_country              0\n",
       "v_lon                  0\n",
       "v_lat                  0\n",
       "g_city                 0\n",
       "g_description       1499\n",
       "g_created              0\n",
       "g_topics               0\n",
       "g_lon                  0\n",
       "g_link                 0\n",
       "g_lat                  0\n",
       "g_name                 0\n",
       "guests                 0\n",
       "response               0\n",
       "user_id                0\n",
       "when                   0\n",
       "e_response_num         0\n",
       "e_total_attend         0\n",
       "u_memberships          0\n",
       "u_city                 0\n",
       "u_hometown        118304\n",
       "u_country              0\n",
       "u_lat                  0\n",
       "u_lon                  0\n",
       "dtype: int64"
      ]
     },
     "execution_count": 38,
     "metadata": {},
     "output_type": "execute_result"
    }
   ],
   "source": [
    "df_events_flat.isnull().sum(axis=0)"
   ]
  },
  {
   "cell_type": "code",
   "execution_count": 36,
   "metadata": {
    "collapsed": false
   },
   "outputs": [
    {
     "data": {
      "text/plain": [
       "Index([      u'e_status',     u'e_venue_id',  u'e_description',\n",
       "         u'e_rsvp_limit',      u'e_created',         u'e_time',\n",
       "           u'e_duration',     u'e_group_id',         u'e_name',\n",
       "           u'e_event_id',     u'e_datetime',         u'e_hour',\n",
       "                u'e_dow',    u'e_reg_hours',         u'v_city',\n",
       "               u'v_name',      u'v_country',          u'v_lon',\n",
       "                u'v_lat',         u'g_city',  u'g_description',\n",
       "            u'g_created',       u'g_topics',          u'g_lon',\n",
       "               u'g_link',          u'g_lat',         u'g_name',\n",
       "               u'guests',       u'response',        u'user_id',\n",
       "                 u'when', u'e_response_num', u'e_total_attend',\n",
       "        u'u_memberships',         u'u_city',      u'u_user_id',\n",
       "           u'u_hometown',      u'u_country',          u'u_lat',\n",
       "                u'u_lon'],\n",
       "      dtype='object')"
      ]
     },
     "execution_count": 36,
     "metadata": {},
     "output_type": "execute_result"
    }
   ],
   "source": [
    "df_events_flat.columns"
   ]
  },
  {
   "cell_type": "code",
   "execution_count": 32,
   "metadata": {
    "collapsed": true
   },
   "outputs": [],
   "source": [
    "df_events_flat = df_events_flat.merge(df_users, left_on='user_id', right_on='u_user_id', how='left')\n",
    "df_events_flat = df_events_flat[df_events_flat.u_user_id.notnull()]\n",
    "del df_events_flat['u_user_id']"
   ]
  },
  {
   "cell_type": "code",
   "execution_count": null,
   "metadata": {
    "collapsed": true
   },
   "outputs": [],
   "source": [
    "# n_events_peruser = df_events_flat.groupby(['user_id']).agg({'label': 'sum'}).reset_index()\n",
    "# print 'Total attendance: \\n', df_events_flat.total_att.describe()\n",
    "# print '\\nResponse summary: \\n', df_events_flat.response.value_counts()\n",
    "# print '\\nGuest count summary: \\n', df_events_flat.guests.describe()\n",
    "# print 'Number of events attended per user: \\n', n_events_peruser.label.describe()\n",
    "# print '\\nStatus of events:\\n', df_events_flat.status.value_counts()"
   ]
  },
  {
   "cell_type": "code",
   "execution_count": 43,
   "metadata": {
    "collapsed": false
   },
   "outputs": [],
   "source": [
    "df_events_flat['uv_dist'] = df_events_flat.apply(lambda row: engg.lat_lon_similarity(row['v_lat'], row['v_lon'], \n",
    "                                                                               row['u_lat'], row['u_lon']), axis=1)\n",
    "df_events_flat['vg_dist'] = df_events_flat.apply(lambda row: engg.lat_lon_similarity(row['v_lat'], row['v_lon'], \n",
    "                                                                               row['g_lat'], row['g_lon']), axis=1)"
   ]
  },
  {
   "cell_type": "code",
   "execution_count": 45,
   "metadata": {
    "collapsed": false
   },
   "outputs": [
    {
     "data": {
      "text/plain": [
       "Index([      u'e_status',     u'e_venue_id',  u'e_description',\n",
       "         u'e_rsvp_limit',      u'e_created',         u'e_time',\n",
       "           u'e_duration',     u'e_group_id',         u'e_name',\n",
       "           u'e_event_id',     u'e_datetime',         u'e_hour',\n",
       "                u'e_dow',    u'e_reg_hours',         u'v_city',\n",
       "               u'v_name',      u'v_country',          u'v_lon',\n",
       "                u'v_lat',         u'g_city',  u'g_description',\n",
       "            u'g_created',       u'g_topics',          u'g_lon',\n",
       "               u'g_link',          u'g_lat',         u'g_name',\n",
       "               u'guests',       u'response',        u'user_id',\n",
       "                 u'when', u'e_response_num', u'e_total_attend',\n",
       "        u'u_memberships',         u'u_city',     u'u_hometown',\n",
       "            u'u_country',          u'u_lat',          u'u_lon',\n",
       "              u'uv_dist',        u'vg_dist'],\n",
       "      dtype='object')"
      ]
     },
     "execution_count": 45,
     "metadata": {},
     "output_type": "execute_result"
    }
   ],
   "source": [
    "df_events_flat.columns"
   ]
  },
  {
   "cell_type": "code",
   "execution_count": 46,
   "metadata": {
    "collapsed": true
   },
   "outputs": [],
   "source": [
    "df_events_flat['group_tenure'] = (df_events_flat.e_time - df_events_flat.g_created) / 86400000"
   ]
  },
  {
   "cell_type": "code",
   "execution_count": 48,
   "metadata": {
    "collapsed": false
   },
   "outputs": [
    {
     "data": {
      "text/plain": [
       "count    172312.000000\n",
       "mean        638.095231\n",
       "std         525.058968\n",
       "min           0.090625\n",
       "25%         217.157512\n",
       "50%         522.269039\n",
       "75%         926.105278\n",
       "max        3169.688449\n",
       "Name: group_tenure, dtype: float64"
      ]
     },
     "execution_count": 48,
     "metadata": {},
     "output_type": "execute_result"
    }
   ],
   "source": [
    "df_events_flat['group_tenure'].describe()"
   ]
  },
  {
   "cell_type": "code",
   "execution_count": null,
   "metadata": {
    "collapsed": false
   },
   "outputs": [],
   "source": [
    "df_agg = df_events_flat.groupby(['event_id', 'event_hour', 'event_day_of_week', 'reg_time']) \\\n",
    "                       .agg({'uv_sim' : 'mean', 'total_att' : 'sum'}).reset_index()\n",
    "df_agg['event_hour_1'] = df_agg.event_hour.apply(lambda x: engg.event_hour_transform(x))\n",
    "df_agg['day_1'] = np.where(df_agg.event_day_of_week==1, 1, 0)\n",
    "df_agg['day_2'] = np.where(df_agg.event_day_of_week==2, 1, 0)\n",
    "df_agg['day_3'] = np.where(df_agg.event_day_of_week==3, 1, 0)\n",
    "df_agg['day_4'] = np.where(df_agg.event_day_of_week==4, 1, 0)\n",
    "df_agg['day_5'] = np.where(df_agg.event_day_of_week==5, 1, 0)\n",
    "df_agg['day_6'] = np.where(df_agg.event_day_of_week==6, 1, 0)\n",
    "df_agg = df_agg.dropna(axis=0, how='any')\n",
    "df_data = df_agg.drop(['event_id', 'event_hour', 'event_day_of_week'], axis=1)"
   ]
  },
  {
   "cell_type": "code",
   "execution_count": null,
   "metadata": {
    "collapsed": true
   },
   "outputs": [],
   "source": [
    "X = df_data.drop('total_att', axis=1)\n",
    "Y = df_data.total_att\n",
    "X_train, X_test, y_train, y_test = train_test_split(X, Y, test_size=0.2, random_state=0)"
   ]
  },
  {
   "cell_type": "code",
   "execution_count": null,
   "metadata": {
    "collapsed": false
   },
   "outputs": [],
   "source": [
    "X.corr(method='pearson')"
   ]
  },
  {
   "cell_type": "code",
   "execution_count": null,
   "metadata": {
    "collapsed": false
   },
   "outputs": [],
   "source": [
    "lm = linear_model.LinearRegression()\n",
    "lm.fit(X=X_train, y=y_train)\n",
    "# scores = cross_val_score(lm, X_train, y_train, cv=5)\n",
    "# predicted = cross_val_predict(lm, X_test, y_test, cv=5)\n",
    "predicted = lm.predict(X=X_test)\n",
    "metrics.r2_score(y_test, predicted)"
   ]
  },
  {
   "cell_type": "code",
   "execution_count": null,
   "metadata": {
    "collapsed": true
   },
   "outputs": [],
   "source": [
    "df_result = pd.DataFrame({'target': y_test, 'predict': predicted})"
   ]
  },
  {
   "cell_type": "code",
   "execution_count": null,
   "metadata": {
    "collapsed": false
   },
   "outputs": [],
   "source": [
    "X_train_pred = lm.predict(X_train)\n",
    "X_test_pred = lm.predict(X_test)\n",
    "plt.scatter(X_train_pred, X_train_pred-y_train, c='b', s=30, alpha=0.5, label='train')\n",
    "plt.scatter(X_test_pred, X_test_pred-y_test, c='g', s=30, alpha=0.5, label='test')\n",
    "plt.hlines(y=0, xmin=0, xmax=80)\n",
    "plt.legend(loc='lower right')\n",
    "plt.title('Residual plot of training and testing process')\n",
    "plt.show()"
   ]
  },
  {
   "cell_type": "code",
   "execution_count": null,
   "metadata": {
    "collapsed": true
   },
   "outputs": [],
   "source": [
    "clf = tree.DecisionTreeRegressor(max_depth=3)\n",
    "clf = clf.fit(X_train, y_train)\n",
    "predict = clf.predict(X_test)\n",
    "print \"R2 is \", metrics.r2_score(y_test, predict)"
   ]
  },
  {
   "cell_type": "code",
   "execution_count": null,
   "metadata": {
    "collapsed": true
   },
   "outputs": [],
   "source": [
    "engg.visualize_tree(clf, X.columns)"
   ]
  },
  {
   "cell_type": "code",
   "execution_count": null,
   "metadata": {
    "collapsed": true
   },
   "outputs": [],
   "source": [
    "with open(\"attend_reg.txt\", \"w\") as f:\n",
    "    f = tree.export_graphviz(clf, out_file=f, feature_names=features)"
   ]
  },
  {
   "cell_type": "code",
   "execution_count": null,
   "metadata": {
    "collapsed": true
   },
   "outputs": [],
   "source": []
  }
 ],
 "metadata": {
  "kernelspec": {
   "display_name": "Python 2",
   "language": "python",
   "name": "python2"
  },
  "language_info": {
   "codemirror_mode": {
    "name": "ipython",
    "version": 2
   },
   "file_extension": ".py",
   "mimetype": "text/x-python",
   "name": "python",
   "nbconvert_exporter": "python",
   "pygments_lexer": "ipython2",
   "version": "2.7.13"
  }
 },
 "nbformat": 4,
 "nbformat_minor": 0
}
