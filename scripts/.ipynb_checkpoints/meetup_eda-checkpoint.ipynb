{
 "cells": [
  {
   "cell_type": "markdown",
   "metadata": {},
   "source": [
    "# 1. Required libraries"
   ]
  },
  {
   "cell_type": "code",
   "execution_count": 1,
   "metadata": {
    "scrolled": false
   },
   "outputs": [
    {
     "name": "stderr",
     "output_type": "stream",
     "text": [
      "C:\\Users\\310195644\\AppData\\Local\\Continuum\\Anaconda2\\lib\\site-packages\\sklearn\\cross_validation.py:44: DeprecationWarning: This module was deprecated in version 0.18 in favor of the model_selection module into which all the refactored classes and functions are moved. Also note that the interface of the new CV iterators are different from that of this module. This module will be removed in 0.20.\n",
      "  \"This module will be removed in 0.20.\", DeprecationWarning)\n",
      "C:\\Users\\310195644\\AppData\\Local\\Continuum\\Anaconda2\\lib\\site-packages\\sklearn\\grid_search.py:43: DeprecationWarning: This module was deprecated in version 0.18 in favor of the model_selection module into which all the refactored classes and functions are moved. This module will be removed in 0.20.\n",
      "  DeprecationWarning)\n"
     ]
    }
   ],
   "source": [
    "import datetime\n",
    "import feature_engg as engg\n",
    "import feature_util as utl\n",
    "import feature_viz as viz\n",
    "import gc\n",
    "import gpxpy.geo\n",
    "import graphviz \n",
    "import json\n",
    "import math\n",
    "import matplotlib.pyplot as plt\n",
    "import numpy as np\n",
    "import os\n",
    "import pandas as pd\n",
    "from sklearn import grid_search\n",
    "from sklearn import metrics\n",
    "from sklearn import tree\n",
    "from sklearn import linear_model\n",
    "from sklearn import model_selection\n",
    "import warnings\n",
    "\n",
    "warnings.filterwarnings('ignore')"
   ]
  },
  {
   "cell_type": "markdown",
   "metadata": {},
   "source": [
    "# 2. Load data"
   ]
  },
  {
   "cell_type": "markdown",
   "metadata": {},
   "source": [
    "Load all four datasets + city data (contains city name, latitude, longitude)."
   ]
  },
  {
   "cell_type": "code",
   "execution_count": 2,
   "metadata": {},
   "outputs": [
    {
     "name": "stdout",
     "output_type": "stream",
     "text": [
      "<type 'list'>\n",
      "<type 'list'>\n",
      "<type 'list'>\n",
      "<type 'list'>\n"
     ]
    }
   ],
   "source": [
    "# cities\n",
    "df_cities = pd.read_csv('../data/world_cities.txt', sep=\",\", encoding='latin1')\n",
    "df_cities = df_cities[['country', 'city', 'accent_city', 'lat', 'lon']]\n",
    "df_cities['accent_city'] = df_cities.accent_city.str.lower()\n",
    "\n",
    "# events\n",
    "df_events = utl.get_df('../data/events.json', encoding='latin1')\n",
    "df_events.columns = ['e_' + str(col) for col in df_events.columns]\n",
    "\n",
    "# groups\n",
    "df_groups = utl.get_df('../data/groups.json', encoding='utf-8')\n",
    "df_groups.columns = ['g_' + str(col) for col in df_groups.columns]\n",
    "\n",
    "# users\n",
    "df_users = utl.get_df('../data/users.json', encoding='utf-8')\n",
    "df_users['city'] = df_users.city.str.lower()\n",
    "\n",
    "# venues\n",
    "df_venues = utl.get_df('../data/venues.json', encoding='utf-8')\n",
    "df_venues['city'] = df_venues.city.str.lower()\n",
    "df_venues.columns = ['v_' + str(col) for col in df_venues.columns]"
   ]
  },
  {
   "cell_type": "markdown",
   "metadata": {},
   "source": [
    "Join city data with user data to get user city latitude and longitude."
   ]
  },
  {
   "cell_type": "code",
   "execution_count": 3,
   "metadata": {
    "collapsed": true
   },
   "outputs": [],
   "source": [
    "df_users = df_users.sort(['user_id'], ascending=[1])\n",
    "df_users = df_users.merge(df_cities, left_on=['country', 'city'], right_on=['country', 'accent_city'], how='left')\n",
    "df_users = df_users.drop_duplicates(subset=['user_id'], keep='first')\n",
    "df_users.columns = ['u_' + str(col)  for col in df_users.columns]"
   ]
  },
  {
   "cell_type": "markdown",
   "metadata": {},
   "source": [
    "# 3. Features"
   ]
  },
  {
   "cell_type": "markdown",
   "metadata": {},
   "source": [
    "## 3.1 Event attributes"
   ]
  },
  {
   "cell_type": "code",
   "execution_count": 4,
   "metadata": {},
   "outputs": [
    {
     "data": {
      "text/html": [
       "<div>\n",
       "<table border=\"1\" class=\"dataframe\">\n",
       "  <thead>\n",
       "    <tr style=\"text-align: right;\">\n",
       "      <th></th>\n",
       "      <th>e_venue_id</th>\n",
       "      <th>e_rsvp_limit</th>\n",
       "      <th>e_created</th>\n",
       "      <th>e_time</th>\n",
       "      <th>e_duration</th>\n",
       "    </tr>\n",
       "  </thead>\n",
       "  <tbody>\n",
       "    <tr>\n",
       "      <th>count</th>\n",
       "      <td>6200.000000</td>\n",
       "      <td>2211.000000</td>\n",
       "      <td>6.200000e+03</td>\n",
       "      <td>6.183000e+03</td>\n",
       "      <td>2.600000e+03</td>\n",
       "    </tr>\n",
       "    <tr>\n",
       "      <th>mean</th>\n",
       "      <td>67959.885484</td>\n",
       "      <td>47.700588</td>\n",
       "      <td>1.386568e+12</td>\n",
       "      <td>1.395698e+12</td>\n",
       "      <td>2.411515e+07</td>\n",
       "    </tr>\n",
       "    <tr>\n",
       "      <th>std</th>\n",
       "      <td>488.481235</td>\n",
       "      <td>42.778604</td>\n",
       "      <td>4.081886e+10</td>\n",
       "      <td>3.952652e+10</td>\n",
       "      <td>6.576107e+07</td>\n",
       "    </tr>\n",
       "    <tr>\n",
       "      <th>min</th>\n",
       "      <td>67082.000000</td>\n",
       "      <td>1.000000</td>\n",
       "      <td>1.172849e+12</td>\n",
       "      <td>1.173946e+12</td>\n",
       "      <td>2.700000e+06</td>\n",
       "    </tr>\n",
       "    <tr>\n",
       "      <th>25%</th>\n",
       "      <td>67563.000000</td>\n",
       "      <td>20.000000</td>\n",
       "      <td>1.361802e+12</td>\n",
       "      <td>1.371807e+12</td>\n",
       "      <td>7.200000e+06</td>\n",
       "    </tr>\n",
       "    <tr>\n",
       "      <th>50%</th>\n",
       "      <td>67951.000000</td>\n",
       "      <td>40.000000</td>\n",
       "      <td>1.393498e+12</td>\n",
       "      <td>1.404758e+12</td>\n",
       "      <td>1.080000e+07</td>\n",
       "    </tr>\n",
       "    <tr>\n",
       "      <th>75%</th>\n",
       "      <td>68345.000000</td>\n",
       "      <td>60.000000</td>\n",
       "      <td>1.420825e+12</td>\n",
       "      <td>1.427378e+12</td>\n",
       "      <td>1.620000e+07</td>\n",
       "    </tr>\n",
       "    <tr>\n",
       "      <th>max</th>\n",
       "      <td>68812.000000</td>\n",
       "      <td>500.000000</td>\n",
       "      <td>1.440671e+12</td>\n",
       "      <td>1.472015e+12</td>\n",
       "      <td>1.148400e+09</td>\n",
       "    </tr>\n",
       "  </tbody>\n",
       "</table>\n",
       "</div>"
      ],
      "text/plain": [
       "         e_venue_id  e_rsvp_limit     e_created        e_time    e_duration\n",
       "count   6200.000000   2211.000000  6.200000e+03  6.183000e+03  2.600000e+03\n",
       "mean   67959.885484     47.700588  1.386568e+12  1.395698e+12  2.411515e+07\n",
       "std      488.481235     42.778604  4.081886e+10  3.952652e+10  6.576107e+07\n",
       "min    67082.000000      1.000000  1.172849e+12  1.173946e+12  2.700000e+06\n",
       "25%    67563.000000     20.000000  1.361802e+12  1.371807e+12  7.200000e+06\n",
       "50%    67951.000000     40.000000  1.393498e+12  1.404758e+12  1.080000e+07\n",
       "75%    68345.000000     60.000000  1.420825e+12  1.427378e+12  1.620000e+07\n",
       "max    68812.000000    500.000000  1.440671e+12  1.472015e+12  1.148400e+09"
      ]
     },
     "execution_count": 4,
     "metadata": {},
     "output_type": "execute_result"
    }
   ],
   "source": [
    "df_events.describe()"
   ]
  },
  {
   "cell_type": "markdown",
   "metadata": {},
   "source": [
    "Based on event timestamps calculate event hour of day, day of week and duration for event sign up."
   ]
  },
  {
   "cell_type": "code",
   "execution_count": 5,
   "metadata": {
    "collapsed": true
   },
   "outputs": [],
   "source": [
    "df_events = df_events.assign(e_event_id=[i+1 for i in xrange(len(df_events))])\n",
    "df_events = df_events[df_events.e_time.notnull()]\n",
    "df_events['e_datetime'] = pd.to_datetime((df_events['e_time']/1000).astype(int), unit='s')\n",
    "df_events['e_hour'] = df_events.e_datetime.dt.hour\n",
    "df_events['e_dow'] = df_events.e_datetime.dt.dayofweek\n",
    "df_events['e_reg_hours'] = (df_events.e_time - df_events.e_created) / 3600000"
   ]
  },
  {
   "cell_type": "markdown",
   "metadata": {},
   "source": [
    "## 3.2 Group attributes"
   ]
  },
  {
   "cell_type": "code",
   "execution_count": 6,
   "metadata": {},
   "outputs": [
    {
     "data": {
      "text/html": [
       "<div>\n",
       "<table border=\"1\" class=\"dataframe\">\n",
       "  <thead>\n",
       "    <tr style=\"text-align: right;\">\n",
       "      <th></th>\n",
       "      <th>g_created</th>\n",
       "      <th>g_lon</th>\n",
       "      <th>g_lat</th>\n",
       "    </tr>\n",
       "  </thead>\n",
       "  <tbody>\n",
       "    <tr>\n",
       "      <th>count</th>\n",
       "      <td>7.110000e+02</td>\n",
       "      <td>711.000000</td>\n",
       "      <td>711.000000</td>\n",
       "    </tr>\n",
       "    <tr>\n",
       "      <th>mean</th>\n",
       "      <td>1.394015e+12</td>\n",
       "      <td>5.269170</td>\n",
       "      <td>51.965724</td>\n",
       "    </tr>\n",
       "    <tr>\n",
       "      <th>std</th>\n",
       "      <td>4.303401e+10</td>\n",
       "      <td>0.889074</td>\n",
       "      <td>0.572717</td>\n",
       "    </tr>\n",
       "    <tr>\n",
       "      <th>min</th>\n",
       "      <td>1.172849e+12</td>\n",
       "      <td>3.130000</td>\n",
       "      <td>50.930000</td>\n",
       "    </tr>\n",
       "    <tr>\n",
       "      <th>25%</th>\n",
       "      <td>1.372933e+12</td>\n",
       "      <td>4.890000</td>\n",
       "      <td>51.439999</td>\n",
       "    </tr>\n",
       "    <tr>\n",
       "      <th>50%</th>\n",
       "      <td>1.407404e+12</td>\n",
       "      <td>4.890000</td>\n",
       "      <td>52.099998</td>\n",
       "    </tr>\n",
       "    <tr>\n",
       "      <th>75%</th>\n",
       "      <td>1.426360e+12</td>\n",
       "      <td>5.470000</td>\n",
       "      <td>52.369999</td>\n",
       "    </tr>\n",
       "    <tr>\n",
       "      <th>max</th>\n",
       "      <td>1.440612e+12</td>\n",
       "      <td>7.200000</td>\n",
       "      <td>53.230000</td>\n",
       "    </tr>\n",
       "  </tbody>\n",
       "</table>\n",
       "</div>"
      ],
      "text/plain": [
       "          g_created       g_lon       g_lat\n",
       "count  7.110000e+02  711.000000  711.000000\n",
       "mean   1.394015e+12    5.269170   51.965724\n",
       "std    4.303401e+10    0.889074    0.572717\n",
       "min    1.172849e+12    3.130000   50.930000\n",
       "25%    1.372933e+12    4.890000   51.439999\n",
       "50%    1.407404e+12    4.890000   52.099998\n",
       "75%    1.426360e+12    5.470000   52.369999\n",
       "max    1.440612e+12    7.200000   53.230000"
      ]
     },
     "execution_count": 6,
     "metadata": {},
     "output_type": "execute_result"
    }
   ],
   "source": [
    "df_groups.describe()"
   ]
  },
  {
   "cell_type": "markdown",
   "metadata": {},
   "source": [
    "## 3.3 User attributes"
   ]
  },
  {
   "cell_type": "code",
   "execution_count": 7,
   "metadata": {},
   "outputs": [
    {
     "data": {
      "text/html": [
       "<div>\n",
       "<table border=\"1\" class=\"dataframe\">\n",
       "  <thead>\n",
       "    <tr style=\"text-align: right;\">\n",
       "      <th></th>\n",
       "      <th>u_user_id</th>\n",
       "      <th>u_lat</th>\n",
       "      <th>u_lon</th>\n",
       "    </tr>\n",
       "  </thead>\n",
       "  <tbody>\n",
       "    <tr>\n",
       "      <th>count</th>\n",
       "      <td>57773.000000</td>\n",
       "      <td>57192.000000</td>\n",
       "      <td>57192.000000</td>\n",
       "    </tr>\n",
       "    <tr>\n",
       "      <th>mean</th>\n",
       "      <td>38193.992955</td>\n",
       "      <td>50.538063</td>\n",
       "      <td>3.663417</td>\n",
       "    </tr>\n",
       "    <tr>\n",
       "      <th>std</th>\n",
       "      <td>16678.304214</td>\n",
       "      <td>8.266970</td>\n",
       "      <td>22.023226</td>\n",
       "    </tr>\n",
       "    <tr>\n",
       "      <th>min</th>\n",
       "      <td>9307.000000</td>\n",
       "      <td>-43.533333</td>\n",
       "      <td>-170.275000</td>\n",
       "    </tr>\n",
       "    <tr>\n",
       "      <th>25%</th>\n",
       "      <td>23751.000000</td>\n",
       "      <td>51.481431</td>\n",
       "      <td>4.500000</td>\n",
       "    </tr>\n",
       "    <tr>\n",
       "      <th>50%</th>\n",
       "      <td>38194.000000</td>\n",
       "      <td>52.093813</td>\n",
       "      <td>4.916667</td>\n",
       "    </tr>\n",
       "    <tr>\n",
       "      <th>75%</th>\n",
       "      <td>52637.000000</td>\n",
       "      <td>52.350000</td>\n",
       "      <td>5.389526</td>\n",
       "    </tr>\n",
       "    <tr>\n",
       "      <th>max</th>\n",
       "      <td>67081.000000</td>\n",
       "      <td>64.200000</td>\n",
       "      <td>174.783333</td>\n",
       "    </tr>\n",
       "  </tbody>\n",
       "</table>\n",
       "</div>"
      ],
      "text/plain": [
       "          u_user_id         u_lat         u_lon\n",
       "count  57773.000000  57192.000000  57192.000000\n",
       "mean   38193.992955     50.538063      3.663417\n",
       "std    16678.304214      8.266970     22.023226\n",
       "min     9307.000000    -43.533333   -170.275000\n",
       "25%    23751.000000     51.481431      4.500000\n",
       "50%    38194.000000     52.093813      4.916667\n",
       "75%    52637.000000     52.350000      5.389526\n",
       "max    67081.000000     64.200000    174.783333"
      ]
     },
     "execution_count": 7,
     "metadata": {},
     "output_type": "execute_result"
    }
   ],
   "source": [
    "df_users.describe()"
   ]
  },
  {
   "cell_type": "code",
   "execution_count": 8,
   "metadata": {
    "collapsed": true
   },
   "outputs": [],
   "source": [
    "df_users = df_users[df_users.u_lat.notnull()]"
   ]
  },
  {
   "cell_type": "markdown",
   "metadata": {},
   "source": [
    "## 3.4 Venue attributes"
   ]
  },
  {
   "cell_type": "code",
   "execution_count": 9,
   "metadata": {},
   "outputs": [
    {
     "data": {
      "text/html": [
       "<div>\n",
       "<table border=\"1\" class=\"dataframe\">\n",
       "  <thead>\n",
       "    <tr style=\"text-align: right;\">\n",
       "      <th></th>\n",
       "      <th>v_venue_id</th>\n",
       "      <th>v_lon</th>\n",
       "      <th>v_lat</th>\n",
       "    </tr>\n",
       "  </thead>\n",
       "  <tbody>\n",
       "    <tr>\n",
       "      <th>count</th>\n",
       "      <td>1732.00000</td>\n",
       "      <td>1731.000000</td>\n",
       "      <td>1731.000000</td>\n",
       "    </tr>\n",
       "    <tr>\n",
       "      <th>mean</th>\n",
       "      <td>67947.50000</td>\n",
       "      <td>4.626416</td>\n",
       "      <td>50.060030</td>\n",
       "    </tr>\n",
       "    <tr>\n",
       "      <th>std</th>\n",
       "      <td>500.12965</td>\n",
       "      <td>8.932724</td>\n",
       "      <td>9.779613</td>\n",
       "    </tr>\n",
       "    <tr>\n",
       "      <th>min</th>\n",
       "      <td>67082.00000</td>\n",
       "      <td>-122.655571</td>\n",
       "      <td>-33.865340</td>\n",
       "    </tr>\n",
       "    <tr>\n",
       "      <th>25%</th>\n",
       "      <td>67514.75000</td>\n",
       "      <td>4.489095</td>\n",
       "      <td>51.447849</td>\n",
       "    </tr>\n",
       "    <tr>\n",
       "      <th>50%</th>\n",
       "      <td>67947.50000</td>\n",
       "      <td>4.896400</td>\n",
       "      <td>52.092468</td>\n",
       "    </tr>\n",
       "    <tr>\n",
       "      <th>75%</th>\n",
       "      <td>68380.25000</td>\n",
       "      <td>5.277729</td>\n",
       "      <td>52.366380</td>\n",
       "    </tr>\n",
       "    <tr>\n",
       "      <th>max</th>\n",
       "      <td>68813.00000</td>\n",
       "      <td>151.206670</td>\n",
       "      <td>59.327885</td>\n",
       "    </tr>\n",
       "  </tbody>\n",
       "</table>\n",
       "</div>"
      ],
      "text/plain": [
       "        v_venue_id        v_lon        v_lat\n",
       "count   1732.00000  1731.000000  1731.000000\n",
       "mean   67947.50000     4.626416    50.060030\n",
       "std      500.12965     8.932724     9.779613\n",
       "min    67082.00000  -122.655571   -33.865340\n",
       "25%    67514.75000     4.489095    51.447849\n",
       "50%    67947.50000     4.896400    52.092468\n",
       "75%    68380.25000     5.277729    52.366380\n",
       "max    68813.00000   151.206670    59.327885"
      ]
     },
     "execution_count": 9,
     "metadata": {},
     "output_type": "execute_result"
    }
   ],
   "source": [
    "df_venues.describe()"
   ]
  },
  {
   "cell_type": "code",
   "execution_count": 10,
   "metadata": {
    "collapsed": true
   },
   "outputs": [],
   "source": [
    "df_venues = df_venues[df_venues.v_lat.notnull()]"
   ]
  },
  {
   "cell_type": "markdown",
   "metadata": {},
   "source": [
    "## 3.5 Feature engineering"
   ]
  },
  {
   "cell_type": "code",
   "execution_count": 11,
   "metadata": {
    "scrolled": true
   },
   "outputs": [
    {
     "name": "stdout",
     "output_type": "stream",
     "text": [
      "df_events shape:  (6183, 15)\n",
      "df_events columns:  Index([u'e_status', u'e_venue_id', u'e_description', u'e_rsvps',\n",
      "       u'e_rsvp_limit', u'e_created', u'e_time', u'e_duration', u'e_group_id',\n",
      "       u'e_name', u'e_event_id', u'e_datetime', u'e_hour', u'e_dow',\n",
      "       u'e_reg_hours'],\n",
      "      dtype='object')\n"
     ]
    }
   ],
   "source": [
    "print 'df_events shape: ', df_events.shape\n",
    "print 'df_events columns: ', df_events.columns"
   ]
  },
  {
   "cell_type": "code",
   "execution_count": 12,
   "metadata": {
    "collapsed": true
   },
   "outputs": [],
   "source": [
    "df_events = df_events.merge(df_venues, left_on='e_venue_id', right_on='v_venue_id', how='left')\n",
    "df_events = df_events.merge(df_groups, left_on='e_group_id', right_on='g_group_id', how='left')\n",
    "del df_events['v_venue_id'], df_events['g_group_id']"
   ]
  },
  {
   "cell_type": "code",
   "execution_count": 13,
   "metadata": {
    "collapsed": true
   },
   "outputs": [],
   "source": [
    "df_events_flat = utl.flatten_list(df_events, 'e_rsvps', reset_index=True)\n",
    "df_events_flat = utl.flatten_dict(df_events_flat, 'e_rsvps')\n",
    "df_events_flat['e_response_num'] = df_events_flat.response.apply(lambda x: engg.label_attendance(x))\n",
    "df_events_flat['e_total_attend'] = df_events_flat.e_response_num + df_events_flat.guests\n",
    "df_events_flat = df_events_flat.merge(df_users, left_on='user_id', right_on='u_user_id', how='left')\n",
    "df_events_flat = df_events_flat[df_events_flat.u_user_id.notnull()]\n",
    "del df_events_flat['u_user_id']"
   ]
  },
  {
   "cell_type": "code",
   "execution_count": null,
   "metadata": {
    "collapsed": true
   },
   "outputs": [],
   "source": [
    "# n_events_peruser = df_events_flat.groupby(['user_id']).agg({'label': 'sum'}).reset_index()\n",
    "# print 'Total attendance: \\n', df_events_flat.total_att.describe()\n",
    "# print '\\nResponse summary: \\n', df_events_flat.response.value_counts()\n",
    "# print '\\nGuest count summary: \\n', df_events_flat.guests.describe()\n",
    "# print 'Number of events attended per user: \\n', n_events_peruser.label.describe()\n",
    "# print '\\nStatus of events:\\n', df_events_flat.status.value_counts()"
   ]
  },
  {
   "cell_type": "code",
   "execution_count": 14,
   "metadata": {
    "collapsed": true
   },
   "outputs": [],
   "source": [
    "df_events_flat['vu_dist'] = df_events_flat.apply(lambda row: gpxpy.geo.haversine_distance(row['v_lat'], row['v_lon'], \n",
    "                                                                                          row['u_lat'], row['u_lon']), axis=1)\n",
    "df_events_flat['vg_dist'] = df_events_flat.apply(lambda row: gpxpy.geo.haversine_distance(row['v_lat'], row['v_lon'], \n",
    "                                                                                          row['g_lat'], row['g_lon']), axis=1)\n",
    "df_events_flat['group_tenure'] = (df_events_flat.e_time - df_events_flat.g_created) / 86400000"
   ]
  },
  {
   "cell_type": "code",
   "execution_count": 15,
   "metadata": {
    "collapsed": true
   },
   "outputs": [],
   "source": [
    "df_memberships = df_events_flat.groupby('user_id').agg(lambda x: x.iloc[0]).reset_index()\n",
    "df_memberships = utl.flatten_list(df_memberships, 'u_memberships', reset_index=True)\n",
    "df_memberships = df_memberships[['user_id', 'u_memberships']]\n",
    "df_memberships = utl.flatten_dict(df_memberships, 'u_memberships')\n",
    "df_memberships.columns = ['m_' + str(col) for col in df_memberships.columns]"
   ]
  },
  {
   "cell_type": "code",
   "execution_count": 16,
   "metadata": {
    "collapsed": true
   },
   "outputs": [],
   "source": [
    "df_events_flat = df_events_flat.merge(df_memberships, left_on=['user_id', 'e_group_id'], right_on=['m_user_id', 'm_group_id'],\n",
    "                                    how='left')\n",
    "df_events_flat['group_member_tenure'] = (df_events_flat.e_time - df_events_flat.m_joined) / 86400000\n",
    "del df_events_flat['u_memberships'], df_events_flat['m_user_id'], df_events_flat['m_group_id']"
   ]
  },
  {
   "cell_type": "code",
   "execution_count": 18,
   "metadata": {},
   "outputs": [],
   "source": [
    "df_group_events = df_events_flat[['e_event_id', 'e_time', 'e_group_id']]\n",
    "df_group_events = df_group_events.drop_duplicates(subset='e_event_id', keep='first')\n",
    "df_group_events['g_past_events'] = df_group_events.e_event_id.apply(lambda x: engg.count_past_group_events(df_group_events, x))\n",
    "df_user_events = df_events_flat[['e_event_id', 'e_time', 'user_id']]\n",
    "df_user_events = df_user_events.drop_duplicates(subset=['e_event_id', 'user_id'], keep='first')\n",
    "df_user_events['u_past_events'] = df_user_events.apply(lambda row: engg.count_past_user_events(df_user_events, row.user_id, row.e_event_id), 1)\n",
    "df_events_flat = df_events_flat.merge(df_group_events, on='e_event_id', how='left')\n",
    "df_events_flat = df_events_flat.merge(df_user_events, on=['e_event_id', 'user_id'], how='left')\n",
    "del df_events_flat['e_time_y'], df_events_flat['e_group_id_y']"
   ]
  },
  {
   "cell_type": "markdown",
   "metadata": {},
   "source": [
    "# 4. Generate training data"
   ]
  },
  {
   "cell_type": "code",
   "execution_count": 38,
   "metadata": {},
   "outputs": [],
   "source": [
    "df_agg = df_events_flat.groupby(['e_event_id', 'e_hour', 'e_dow', 'e_reg_hours']) \\\n",
    "                       .agg({'vu_dist' : 'median',\n",
    "                             'vg_dist':'median', \n",
    "                             'group_tenure': 'mean',\n",
    "                             'group_member_tenure': 'mean',\n",
    "                             'g_past_events': 'mean',\n",
    "                             'u_past_events': 'median',\n",
    "                             'e_total_attend' : 'sum'}).reset_index()\n",
    "# df_agg['e_hour_1'] = np.where(np.logical_or(df_agg.e_hour<=2, df_agg.e_hour > 22), 1, 0)\n",
    "df_agg['e_hour_2'] = np.where(np.logical_and(df_agg.e_hour>2, df_agg.e_hour <= 6), 1, 0)\n",
    "df_agg['e_hour_3'] = np.where(np.logical_and(df_agg.e_hour>6, df_agg.e_hour <= 10), 1, 0)\n",
    "df_agg['e_hour_4'] = np.where(np.logical_and(df_agg.e_hour>10, df_agg.e_hour <= 14), 1, 0)\n",
    "df_agg['e_hour_5'] = np.where(np.logical_and(df_agg.e_hour>14, df_agg.e_hour <= 18), 1, 0)\n",
    "df_agg['e_hour_6'] = np.where(np.logical_and(df_agg.e_hour>18, df_agg.e_hour <= 22), 1, 0)\n",
    "df_agg['e_day_1'] = np.where(df_agg.e_dow==1, 1, 0)\n",
    "df_agg['e_day_2'] = np.where(df_agg.e_dow==2, 1, 0)\n",
    "df_agg['e_day_3'] = np.where(df_agg.e_dow==3, 1, 0)\n",
    "df_agg['e_day_4'] = np.where(df_agg.e_dow==4, 1, 0)\n",
    "df_agg['e_day_5'] = np.where(df_agg.e_dow==5, 1, 0)\n",
    "df_agg['e_day_6'] = np.where(df_agg.e_dow==6, 1, 0)\n",
    "# df_agg['e_day_7'] = np.where(df_agg.e_dow==7, 1, 0)\n",
    "df_agg = df_agg.dropna(axis=0, how='any')\n",
    "df_data = df_agg.drop(['e_event_id', 'e_hour', 'e_dow'], axis=1)"
   ]
  },
  {
   "cell_type": "code",
   "execution_count": 39,
   "metadata": {},
   "outputs": [
    {
     "name": "stdout",
     "output_type": "stream",
     "text": [
      "Venue and user distance quantile 96%:  357576.367333\n",
      "Venue and group distance quantile 96%:  151688.495304\n"
     ]
    }
   ],
   "source": [
    "print 'Venue and user distance quantile 96%: ', df_data.vu_dist.quantile(.96)\n",
    "print 'Venue and group distance quantile 96%: ', df_data.vg_dist.quantile(.96)"
   ]
  },
  {
   "cell_type": "code",
   "execution_count": null,
   "metadata": {},
   "outputs": [],
   "source": [
    "df_data = df_data[df_data.vu_dist < df_data.vu_dist.quantile(.96)]\n",
    "df_data = df_data[df_data.vg_dist < df_data.vg_dist.quantile(.96)]"
   ]
  },
  {
   "cell_type": "code",
   "execution_count": 40,
   "metadata": {},
   "outputs": [
    {
     "data": {
      "text/html": [
       "<div>\n",
       "<table border=\"1\" class=\"dataframe\">\n",
       "  <thead>\n",
       "    <tr style=\"text-align: right;\">\n",
       "      <th></th>\n",
       "      <th>e_reg_hours</th>\n",
       "      <th>vg_dist</th>\n",
       "      <th>u_past_events</th>\n",
       "      <th>e_total_attend</th>\n",
       "      <th>vu_dist</th>\n",
       "      <th>group_member_tenure</th>\n",
       "      <th>g_past_events</th>\n",
       "      <th>group_tenure</th>\n",
       "      <th>e_hour_2</th>\n",
       "      <th>e_hour_3</th>\n",
       "      <th>e_hour_4</th>\n",
       "      <th>e_hour_5</th>\n",
       "      <th>e_hour_6</th>\n",
       "      <th>e_day_1</th>\n",
       "      <th>e_day_2</th>\n",
       "      <th>e_day_3</th>\n",
       "      <th>e_day_4</th>\n",
       "      <th>e_day_5</th>\n",
       "      <th>e_day_6</th>\n",
       "    </tr>\n",
       "  </thead>\n",
       "  <tbody>\n",
       "    <tr>\n",
       "      <th>e_reg_hours</th>\n",
       "      <td>1.000000</td>\n",
       "      <td>0.040306</td>\n",
       "      <td>-0.033985</td>\n",
       "      <td>0.081116</td>\n",
       "      <td>0.037938</td>\n",
       "      <td>0.387771</td>\n",
       "      <td>-0.040089</td>\n",
       "      <td>0.468759</td>\n",
       "      <td>0.046128</td>\n",
       "      <td>0.068993</td>\n",
       "      <td>-0.083357</td>\n",
       "      <td>-0.003442</td>\n",
       "      <td>-0.018925</td>\n",
       "      <td>-0.068786</td>\n",
       "      <td>0.108437</td>\n",
       "      <td>0.051570</td>\n",
       "      <td>-0.055583</td>\n",
       "      <td>-0.049987</td>\n",
       "      <td>-0.035245</td>\n",
       "    </tr>\n",
       "    <tr>\n",
       "      <th>vg_dist</th>\n",
       "      <td>0.040306</td>\n",
       "      <td>1.000000</td>\n",
       "      <td>0.059218</td>\n",
       "      <td>-0.059773</td>\n",
       "      <td>0.862246</td>\n",
       "      <td>-0.025828</td>\n",
       "      <td>-0.044086</td>\n",
       "      <td>-0.052035</td>\n",
       "      <td>0.074860</td>\n",
       "      <td>0.163646</td>\n",
       "      <td>-0.042748</td>\n",
       "      <td>-0.115382</td>\n",
       "      <td>-0.025775</td>\n",
       "      <td>-0.016267</td>\n",
       "      <td>-0.052566</td>\n",
       "      <td>-0.027788</td>\n",
       "      <td>-0.016895</td>\n",
       "      <td>0.216612</td>\n",
       "      <td>-0.025224</td>\n",
       "    </tr>\n",
       "    <tr>\n",
       "      <th>u_past_events</th>\n",
       "      <td>-0.033985</td>\n",
       "      <td>0.059218</td>\n",
       "      <td>1.000000</td>\n",
       "      <td>-0.245946</td>\n",
       "      <td>0.063746</td>\n",
       "      <td>0.084715</td>\n",
       "      <td>0.595966</td>\n",
       "      <td>-0.006933</td>\n",
       "      <td>-0.024363</td>\n",
       "      <td>0.128477</td>\n",
       "      <td>0.078586</td>\n",
       "      <td>-0.167367</td>\n",
       "      <td>0.049327</td>\n",
       "      <td>-0.044823</td>\n",
       "      <td>0.074799</td>\n",
       "      <td>-0.186600</td>\n",
       "      <td>-0.009145</td>\n",
       "      <td>0.167578</td>\n",
       "      <td>0.044480</td>\n",
       "    </tr>\n",
       "    <tr>\n",
       "      <th>e_total_attend</th>\n",
       "      <td>0.081116</td>\n",
       "      <td>-0.059773</td>\n",
       "      <td>-0.245946</td>\n",
       "      <td>1.000000</td>\n",
       "      <td>-0.071672</td>\n",
       "      <td>-0.024804</td>\n",
       "      <td>-0.164396</td>\n",
       "      <td>0.155013</td>\n",
       "      <td>0.004798</td>\n",
       "      <td>-0.054408</td>\n",
       "      <td>-0.064408</td>\n",
       "      <td>0.098427</td>\n",
       "      <td>-0.033624</td>\n",
       "      <td>-0.030710</td>\n",
       "      <td>-0.038799</td>\n",
       "      <td>0.150126</td>\n",
       "      <td>-0.017434</td>\n",
       "      <td>-0.090427</td>\n",
       "      <td>-0.046780</td>\n",
       "    </tr>\n",
       "    <tr>\n",
       "      <th>vu_dist</th>\n",
       "      <td>0.037938</td>\n",
       "      <td>0.862246</td>\n",
       "      <td>0.063746</td>\n",
       "      <td>-0.071672</td>\n",
       "      <td>1.000000</td>\n",
       "      <td>-0.015694</td>\n",
       "      <td>-0.049461</td>\n",
       "      <td>-0.055231</td>\n",
       "      <td>0.048369</td>\n",
       "      <td>0.148943</td>\n",
       "      <td>-0.041485</td>\n",
       "      <td>-0.094623</td>\n",
       "      <td>-0.024236</td>\n",
       "      <td>-0.014668</td>\n",
       "      <td>-0.061755</td>\n",
       "      <td>-0.020961</td>\n",
       "      <td>-0.007502</td>\n",
       "      <td>0.214397</td>\n",
       "      <td>-0.027044</td>\n",
       "    </tr>\n",
       "    <tr>\n",
       "      <th>group_member_tenure</th>\n",
       "      <td>0.387771</td>\n",
       "      <td>-0.025828</td>\n",
       "      <td>0.084715</td>\n",
       "      <td>-0.024804</td>\n",
       "      <td>-0.015694</td>\n",
       "      <td>1.000000</td>\n",
       "      <td>0.134274</td>\n",
       "      <td>0.758655</td>\n",
       "      <td>0.071260</td>\n",
       "      <td>0.117744</td>\n",
       "      <td>0.000447</td>\n",
       "      <td>-0.120221</td>\n",
       "      <td>0.016121</td>\n",
       "      <td>-0.030190</td>\n",
       "      <td>0.028568</td>\n",
       "      <td>-0.043166</td>\n",
       "      <td>-0.015898</td>\n",
       "      <td>0.073103</td>\n",
       "      <td>-0.013389</td>\n",
       "    </tr>\n",
       "    <tr>\n",
       "      <th>g_past_events</th>\n",
       "      <td>-0.040089</td>\n",
       "      <td>-0.044086</td>\n",
       "      <td>0.595966</td>\n",
       "      <td>-0.164396</td>\n",
       "      <td>-0.049461</td>\n",
       "      <td>0.134274</td>\n",
       "      <td>1.000000</td>\n",
       "      <td>0.147757</td>\n",
       "      <td>-0.028853</td>\n",
       "      <td>0.188225</td>\n",
       "      <td>0.145611</td>\n",
       "      <td>-0.244001</td>\n",
       "      <td>0.014605</td>\n",
       "      <td>-0.093594</td>\n",
       "      <td>0.226349</td>\n",
       "      <td>-0.210256</td>\n",
       "      <td>-0.067848</td>\n",
       "      <td>0.174699</td>\n",
       "      <td>0.044244</td>\n",
       "    </tr>\n",
       "    <tr>\n",
       "      <th>group_tenure</th>\n",
       "      <td>0.468759</td>\n",
       "      <td>-0.052035</td>\n",
       "      <td>-0.006933</td>\n",
       "      <td>0.155013</td>\n",
       "      <td>-0.055231</td>\n",
       "      <td>0.758655</td>\n",
       "      <td>0.147757</td>\n",
       "      <td>1.000000</td>\n",
       "      <td>0.113091</td>\n",
       "      <td>0.186982</td>\n",
       "      <td>-0.010767</td>\n",
       "      <td>-0.164710</td>\n",
       "      <td>-0.017399</td>\n",
       "      <td>-0.059830</td>\n",
       "      <td>0.059565</td>\n",
       "      <td>0.036447</td>\n",
       "      <td>-0.051108</td>\n",
       "      <td>0.047947</td>\n",
       "      <td>-0.009223</td>\n",
       "    </tr>\n",
       "    <tr>\n",
       "      <th>e_hour_2</th>\n",
       "      <td>0.046128</td>\n",
       "      <td>0.074860</td>\n",
       "      <td>-0.024363</td>\n",
       "      <td>0.004798</td>\n",
       "      <td>0.048369</td>\n",
       "      <td>0.071260</td>\n",
       "      <td>-0.028853</td>\n",
       "      <td>0.113091</td>\n",
       "      <td>1.000000</td>\n",
       "      <td>-0.058189</td>\n",
       "      <td>-0.046170</td>\n",
       "      <td>-0.187943</td>\n",
       "      <td>-0.024119</td>\n",
       "      <td>-0.025445</td>\n",
       "      <td>-0.053559</td>\n",
       "      <td>0.114687</td>\n",
       "      <td>-0.009888</td>\n",
       "      <td>-0.007599</td>\n",
       "      <td>-0.018727</td>\n",
       "    </tr>\n",
       "    <tr>\n",
       "      <th>e_hour_3</th>\n",
       "      <td>0.068993</td>\n",
       "      <td>0.163646</td>\n",
       "      <td>0.128477</td>\n",
       "      <td>-0.054408</td>\n",
       "      <td>0.148943</td>\n",
       "      <td>0.117744</td>\n",
       "      <td>0.188225</td>\n",
       "      <td>0.186982</td>\n",
       "      <td>-0.058189</td>\n",
       "      <td>1.000000</td>\n",
       "      <td>-0.156907</td>\n",
       "      <td>-0.638712</td>\n",
       "      <td>-0.081967</td>\n",
       "      <td>-0.144801</td>\n",
       "      <td>-0.047517</td>\n",
       "      <td>-0.077785</td>\n",
       "      <td>0.002129</td>\n",
       "      <td>0.446298</td>\n",
       "      <td>0.076248</td>\n",
       "    </tr>\n",
       "    <tr>\n",
       "      <th>e_hour_4</th>\n",
       "      <td>-0.083357</td>\n",
       "      <td>-0.042748</td>\n",
       "      <td>0.078586</td>\n",
       "      <td>-0.064408</td>\n",
       "      <td>-0.041485</td>\n",
       "      <td>0.000447</td>\n",
       "      <td>0.145611</td>\n",
       "      <td>-0.010767</td>\n",
       "      <td>-0.046170</td>\n",
       "      <td>-0.156907</td>\n",
       "      <td>1.000000</td>\n",
       "      <td>-0.506792</td>\n",
       "      <td>-0.065037</td>\n",
       "      <td>-0.029219</td>\n",
       "      <td>-0.022131</td>\n",
       "      <td>-0.072906</td>\n",
       "      <td>0.099779</td>\n",
       "      <td>0.072746</td>\n",
       "      <td>0.166520</td>\n",
       "    </tr>\n",
       "    <tr>\n",
       "      <th>e_hour_5</th>\n",
       "      <td>-0.003442</td>\n",
       "      <td>-0.115382</td>\n",
       "      <td>-0.167367</td>\n",
       "      <td>0.098427</td>\n",
       "      <td>-0.094623</td>\n",
       "      <td>-0.120221</td>\n",
       "      <td>-0.244001</td>\n",
       "      <td>-0.164710</td>\n",
       "      <td>-0.187943</td>\n",
       "      <td>-0.638712</td>\n",
       "      <td>-0.506792</td>\n",
       "      <td>1.000000</td>\n",
       "      <td>-0.264743</td>\n",
       "      <td>0.154432</td>\n",
       "      <td>0.090382</td>\n",
       "      <td>0.081807</td>\n",
       "      <td>-0.069423</td>\n",
       "      <td>-0.399422</td>\n",
       "      <td>-0.161255</td>\n",
       "    </tr>\n",
       "    <tr>\n",
       "      <th>e_hour_6</th>\n",
       "      <td>-0.018925</td>\n",
       "      <td>-0.025775</td>\n",
       "      <td>0.049327</td>\n",
       "      <td>-0.033624</td>\n",
       "      <td>-0.024236</td>\n",
       "      <td>0.016121</td>\n",
       "      <td>0.014605</td>\n",
       "      <td>-0.017399</td>\n",
       "      <td>-0.024119</td>\n",
       "      <td>-0.081967</td>\n",
       "      <td>-0.065037</td>\n",
       "      <td>-0.264743</td>\n",
       "      <td>1.000000</td>\n",
       "      <td>-0.034513</td>\n",
       "      <td>-0.060070</td>\n",
       "      <td>-0.006615</td>\n",
       "      <td>0.008467</td>\n",
       "      <td>-0.003029</td>\n",
       "      <td>-0.019905</td>\n",
       "    </tr>\n",
       "    <tr>\n",
       "      <th>e_day_1</th>\n",
       "      <td>-0.068786</td>\n",
       "      <td>-0.016267</td>\n",
       "      <td>-0.044823</td>\n",
       "      <td>-0.030710</td>\n",
       "      <td>-0.014668</td>\n",
       "      <td>-0.030190</td>\n",
       "      <td>-0.093594</td>\n",
       "      <td>-0.059830</td>\n",
       "      <td>-0.025445</td>\n",
       "      <td>-0.144801</td>\n",
       "      <td>-0.029219</td>\n",
       "      <td>0.154432</td>\n",
       "      <td>-0.034513</td>\n",
       "      <td>1.000000</td>\n",
       "      <td>-0.285483</td>\n",
       "      <td>-0.279166</td>\n",
       "      <td>-0.162065</td>\n",
       "      <td>-0.146989</td>\n",
       "      <td>-0.069758</td>\n",
       "    </tr>\n",
       "    <tr>\n",
       "      <th>e_day_2</th>\n",
       "      <td>0.108437</td>\n",
       "      <td>-0.052566</td>\n",
       "      <td>0.074799</td>\n",
       "      <td>-0.038799</td>\n",
       "      <td>-0.061755</td>\n",
       "      <td>0.028568</td>\n",
       "      <td>0.226349</td>\n",
       "      <td>0.059565</td>\n",
       "      <td>-0.053559</td>\n",
       "      <td>-0.047517</td>\n",
       "      <td>-0.022131</td>\n",
       "      <td>0.090382</td>\n",
       "      <td>-0.060070</td>\n",
       "      <td>-0.285483</td>\n",
       "      <td>1.000000</td>\n",
       "      <td>-0.335453</td>\n",
       "      <td>-0.194741</td>\n",
       "      <td>-0.176626</td>\n",
       "      <td>-0.083823</td>\n",
       "    </tr>\n",
       "    <tr>\n",
       "      <th>e_day_3</th>\n",
       "      <td>0.051570</td>\n",
       "      <td>-0.027788</td>\n",
       "      <td>-0.186600</td>\n",
       "      <td>0.150126</td>\n",
       "      <td>-0.020961</td>\n",
       "      <td>-0.043166</td>\n",
       "      <td>-0.210256</td>\n",
       "      <td>0.036447</td>\n",
       "      <td>0.114687</td>\n",
       "      <td>-0.077785</td>\n",
       "      <td>-0.072906</td>\n",
       "      <td>0.081807</td>\n",
       "      <td>-0.006615</td>\n",
       "      <td>-0.279166</td>\n",
       "      <td>-0.335453</td>\n",
       "      <td>1.000000</td>\n",
       "      <td>-0.190432</td>\n",
       "      <td>-0.172718</td>\n",
       "      <td>-0.081969</td>\n",
       "    </tr>\n",
       "    <tr>\n",
       "      <th>e_day_4</th>\n",
       "      <td>-0.055583</td>\n",
       "      <td>-0.016895</td>\n",
       "      <td>-0.009145</td>\n",
       "      <td>-0.017434</td>\n",
       "      <td>-0.007502</td>\n",
       "      <td>-0.015898</td>\n",
       "      <td>-0.067848</td>\n",
       "      <td>-0.051108</td>\n",
       "      <td>-0.009888</td>\n",
       "      <td>0.002129</td>\n",
       "      <td>0.099779</td>\n",
       "      <td>-0.069423</td>\n",
       "      <td>0.008467</td>\n",
       "      <td>-0.162065</td>\n",
       "      <td>-0.194741</td>\n",
       "      <td>-0.190432</td>\n",
       "      <td>1.000000</td>\n",
       "      <td>-0.100268</td>\n",
       "      <td>-0.047585</td>\n",
       "    </tr>\n",
       "    <tr>\n",
       "      <th>e_day_5</th>\n",
       "      <td>-0.049987</td>\n",
       "      <td>0.216612</td>\n",
       "      <td>0.167578</td>\n",
       "      <td>-0.090427</td>\n",
       "      <td>0.214397</td>\n",
       "      <td>0.073103</td>\n",
       "      <td>0.174699</td>\n",
       "      <td>0.047947</td>\n",
       "      <td>-0.007599</td>\n",
       "      <td>0.446298</td>\n",
       "      <td>0.072746</td>\n",
       "      <td>-0.399422</td>\n",
       "      <td>-0.003029</td>\n",
       "      <td>-0.146989</td>\n",
       "      <td>-0.176626</td>\n",
       "      <td>-0.172718</td>\n",
       "      <td>-0.100268</td>\n",
       "      <td>1.000000</td>\n",
       "      <td>-0.043159</td>\n",
       "    </tr>\n",
       "    <tr>\n",
       "      <th>e_day_6</th>\n",
       "      <td>-0.035245</td>\n",
       "      <td>-0.025224</td>\n",
       "      <td>0.044480</td>\n",
       "      <td>-0.046780</td>\n",
       "      <td>-0.027044</td>\n",
       "      <td>-0.013389</td>\n",
       "      <td>0.044244</td>\n",
       "      <td>-0.009223</td>\n",
       "      <td>-0.018727</td>\n",
       "      <td>0.076248</td>\n",
       "      <td>0.166520</td>\n",
       "      <td>-0.161255</td>\n",
       "      <td>-0.019905</td>\n",
       "      <td>-0.069758</td>\n",
       "      <td>-0.083823</td>\n",
       "      <td>-0.081969</td>\n",
       "      <td>-0.047585</td>\n",
       "      <td>-0.043159</td>\n",
       "      <td>1.000000</td>\n",
       "    </tr>\n",
       "  </tbody>\n",
       "</table>\n",
       "</div>"
      ],
      "text/plain": [
       "                     e_reg_hours   vg_dist  u_past_events  e_total_attend  \\\n",
       "e_reg_hours             1.000000  0.040306      -0.033985        0.081116   \n",
       "vg_dist                 0.040306  1.000000       0.059218       -0.059773   \n",
       "u_past_events          -0.033985  0.059218       1.000000       -0.245946   \n",
       "e_total_attend          0.081116 -0.059773      -0.245946        1.000000   \n",
       "vu_dist                 0.037938  0.862246       0.063746       -0.071672   \n",
       "group_member_tenure     0.387771 -0.025828       0.084715       -0.024804   \n",
       "g_past_events          -0.040089 -0.044086       0.595966       -0.164396   \n",
       "group_tenure            0.468759 -0.052035      -0.006933        0.155013   \n",
       "e_hour_2                0.046128  0.074860      -0.024363        0.004798   \n",
       "e_hour_3                0.068993  0.163646       0.128477       -0.054408   \n",
       "e_hour_4               -0.083357 -0.042748       0.078586       -0.064408   \n",
       "e_hour_5               -0.003442 -0.115382      -0.167367        0.098427   \n",
       "e_hour_6               -0.018925 -0.025775       0.049327       -0.033624   \n",
       "e_day_1                -0.068786 -0.016267      -0.044823       -0.030710   \n",
       "e_day_2                 0.108437 -0.052566       0.074799       -0.038799   \n",
       "e_day_3                 0.051570 -0.027788      -0.186600        0.150126   \n",
       "e_day_4                -0.055583 -0.016895      -0.009145       -0.017434   \n",
       "e_day_5                -0.049987  0.216612       0.167578       -0.090427   \n",
       "e_day_6                -0.035245 -0.025224       0.044480       -0.046780   \n",
       "\n",
       "                      vu_dist  group_member_tenure  g_past_events  \\\n",
       "e_reg_hours          0.037938             0.387771      -0.040089   \n",
       "vg_dist              0.862246            -0.025828      -0.044086   \n",
       "u_past_events        0.063746             0.084715       0.595966   \n",
       "e_total_attend      -0.071672            -0.024804      -0.164396   \n",
       "vu_dist              1.000000            -0.015694      -0.049461   \n",
       "group_member_tenure -0.015694             1.000000       0.134274   \n",
       "g_past_events       -0.049461             0.134274       1.000000   \n",
       "group_tenure        -0.055231             0.758655       0.147757   \n",
       "e_hour_2             0.048369             0.071260      -0.028853   \n",
       "e_hour_3             0.148943             0.117744       0.188225   \n",
       "e_hour_4            -0.041485             0.000447       0.145611   \n",
       "e_hour_5            -0.094623            -0.120221      -0.244001   \n",
       "e_hour_6            -0.024236             0.016121       0.014605   \n",
       "e_day_1             -0.014668            -0.030190      -0.093594   \n",
       "e_day_2             -0.061755             0.028568       0.226349   \n",
       "e_day_3             -0.020961            -0.043166      -0.210256   \n",
       "e_day_4             -0.007502            -0.015898      -0.067848   \n",
       "e_day_5              0.214397             0.073103       0.174699   \n",
       "e_day_6             -0.027044            -0.013389       0.044244   \n",
       "\n",
       "                     group_tenure  e_hour_2  e_hour_3  e_hour_4  e_hour_5  \\\n",
       "e_reg_hours              0.468759  0.046128  0.068993 -0.083357 -0.003442   \n",
       "vg_dist                 -0.052035  0.074860  0.163646 -0.042748 -0.115382   \n",
       "u_past_events           -0.006933 -0.024363  0.128477  0.078586 -0.167367   \n",
       "e_total_attend           0.155013  0.004798 -0.054408 -0.064408  0.098427   \n",
       "vu_dist                 -0.055231  0.048369  0.148943 -0.041485 -0.094623   \n",
       "group_member_tenure      0.758655  0.071260  0.117744  0.000447 -0.120221   \n",
       "g_past_events            0.147757 -0.028853  0.188225  0.145611 -0.244001   \n",
       "group_tenure             1.000000  0.113091  0.186982 -0.010767 -0.164710   \n",
       "e_hour_2                 0.113091  1.000000 -0.058189 -0.046170 -0.187943   \n",
       "e_hour_3                 0.186982 -0.058189  1.000000 -0.156907 -0.638712   \n",
       "e_hour_4                -0.010767 -0.046170 -0.156907  1.000000 -0.506792   \n",
       "e_hour_5                -0.164710 -0.187943 -0.638712 -0.506792  1.000000   \n",
       "e_hour_6                -0.017399 -0.024119 -0.081967 -0.065037 -0.264743   \n",
       "e_day_1                 -0.059830 -0.025445 -0.144801 -0.029219  0.154432   \n",
       "e_day_2                  0.059565 -0.053559 -0.047517 -0.022131  0.090382   \n",
       "e_day_3                  0.036447  0.114687 -0.077785 -0.072906  0.081807   \n",
       "e_day_4                 -0.051108 -0.009888  0.002129  0.099779 -0.069423   \n",
       "e_day_5                  0.047947 -0.007599  0.446298  0.072746 -0.399422   \n",
       "e_day_6                 -0.009223 -0.018727  0.076248  0.166520 -0.161255   \n",
       "\n",
       "                     e_hour_6   e_day_1   e_day_2   e_day_3   e_day_4  \\\n",
       "e_reg_hours         -0.018925 -0.068786  0.108437  0.051570 -0.055583   \n",
       "vg_dist             -0.025775 -0.016267 -0.052566 -0.027788 -0.016895   \n",
       "u_past_events        0.049327 -0.044823  0.074799 -0.186600 -0.009145   \n",
       "e_total_attend      -0.033624 -0.030710 -0.038799  0.150126 -0.017434   \n",
       "vu_dist             -0.024236 -0.014668 -0.061755 -0.020961 -0.007502   \n",
       "group_member_tenure  0.016121 -0.030190  0.028568 -0.043166 -0.015898   \n",
       "g_past_events        0.014605 -0.093594  0.226349 -0.210256 -0.067848   \n",
       "group_tenure        -0.017399 -0.059830  0.059565  0.036447 -0.051108   \n",
       "e_hour_2            -0.024119 -0.025445 -0.053559  0.114687 -0.009888   \n",
       "e_hour_3            -0.081967 -0.144801 -0.047517 -0.077785  0.002129   \n",
       "e_hour_4            -0.065037 -0.029219 -0.022131 -0.072906  0.099779   \n",
       "e_hour_5            -0.264743  0.154432  0.090382  0.081807 -0.069423   \n",
       "e_hour_6             1.000000 -0.034513 -0.060070 -0.006615  0.008467   \n",
       "e_day_1             -0.034513  1.000000 -0.285483 -0.279166 -0.162065   \n",
       "e_day_2             -0.060070 -0.285483  1.000000 -0.335453 -0.194741   \n",
       "e_day_3             -0.006615 -0.279166 -0.335453  1.000000 -0.190432   \n",
       "e_day_4              0.008467 -0.162065 -0.194741 -0.190432  1.000000   \n",
       "e_day_5             -0.003029 -0.146989 -0.176626 -0.172718 -0.100268   \n",
       "e_day_6             -0.019905 -0.069758 -0.083823 -0.081969 -0.047585   \n",
       "\n",
       "                      e_day_5   e_day_6  \n",
       "e_reg_hours         -0.049987 -0.035245  \n",
       "vg_dist              0.216612 -0.025224  \n",
       "u_past_events        0.167578  0.044480  \n",
       "e_total_attend      -0.090427 -0.046780  \n",
       "vu_dist              0.214397 -0.027044  \n",
       "group_member_tenure  0.073103 -0.013389  \n",
       "g_past_events        0.174699  0.044244  \n",
       "group_tenure         0.047947 -0.009223  \n",
       "e_hour_2            -0.007599 -0.018727  \n",
       "e_hour_3             0.446298  0.076248  \n",
       "e_hour_4             0.072746  0.166520  \n",
       "e_hour_5            -0.399422 -0.161255  \n",
       "e_hour_6            -0.003029 -0.019905  \n",
       "e_day_1             -0.146989 -0.069758  \n",
       "e_day_2             -0.176626 -0.083823  \n",
       "e_day_3             -0.172718 -0.081969  \n",
       "e_day_4             -0.100268 -0.047585  \n",
       "e_day_5              1.000000 -0.043159  \n",
       "e_day_6             -0.043159  1.000000  "
      ]
     },
     "execution_count": 40,
     "metadata": {},
     "output_type": "execute_result"
    }
   ],
   "source": [
    "df_data.corr(method='pearson')"
   ]
  },
  {
   "cell_type": "code",
   "execution_count": 41,
   "metadata": {
    "collapsed": true
   },
   "outputs": [],
   "source": [
    "df_data_1 = df_data[df_data.g_past_events == 0]\n",
    "del df_data_1['g_past_events']\n",
    "df_data_2 = df_data[df_data.g_past_events > 0]"
   ]
  },
  {
   "cell_type": "code",
   "execution_count": 42,
   "metadata": {},
   "outputs": [],
   "source": [
    "X = df_data.drop('e_total_attend', axis=1)\n",
    "Y = df_data.e_total_attend\n",
    "X_train, X_test, y_train, y_test = model_selection.train_test_split(X, Y, test_size=0.2, random_state=999)\n",
    "# X.corr(method='pearson')\n",
    "\n",
    "X_1 = df_data_1.drop('e_total_attend', axis=1)\n",
    "Y_1 = df_data_1.e_total_attend\n",
    "X_train_1, X_test_1, y_train_1, y_test_1 = model_selection.train_test_split(X_1, Y_1, test_size=0.2, random_state=999)\n",
    "# X_1.corr(method='pearson')\n",
    "\n",
    "X_2 = df_data_2.drop('e_total_attend', axis=1)\n",
    "Y_2 = df_data_2.e_total_attend\n",
    "X_train_2, X_test_2, y_train_2, y_test_2 = model_selection.train_test_split(X_2, Y_2, test_size=0.2, random_state=999)\n",
    "# X_2.corr(method='pearson')"
   ]
  },
  {
   "cell_type": "code",
   "execution_count": 27,
   "metadata": {},
   "outputs": [],
   "source": [
    "var_names = ['e_reg_hours', 'u_past_events', 'vg_dist', 'vu_dist', 'group_member_tenure', 'group_tenure']\n",
    "viz.generate_plot(df_data, '', var_names)\n",
    "viz.generate_plot(df_data_1, '1', var_names)\n",
    "viz.generate_plot(df_data_2, '2', var_names)"
   ]
  },
  {
   "cell_type": "markdown",
   "metadata": {},
   "source": [
    "# 5. Model building"
   ]
  },
  {
   "cell_type": "markdown",
   "metadata": {},
   "source": [
    "## 5.1 Regression"
   ]
  },
  {
   "cell_type": "code",
   "execution_count": 43,
   "metadata": {},
   "outputs": [
    {
     "name": "stdout",
     "output_type": "stream",
     "text": [
      "R2 score for the linear regression model is: 0.165969272842\n"
     ]
    }
   ],
   "source": [
    "lm = linear_model.LinearRegression(fit_intercept=True, normalize=True, copy_X=False)\n",
    "lm.fit(X=X_train_2, y=y_train_2)\n",
    "# scores = model_selection.cross_val_score(lm, X_train, y_train, cv=5)\n",
    "# print scores\n",
    "# y_test_pred = model_selection.cross_val_predict(lm, X_test, y_test, cv=5)\n",
    "y_test_pred = lm.predict(X_test_2)\n",
    "print 'R2 score for the linear regression model is:', metrics.r2_score(y_test_2, y_test_pred)"
   ]
  },
  {
   "cell_type": "code",
   "execution_count": 44,
   "metadata": {},
   "outputs": [
    {
     "data": {
      "image/png": "[encoded data removed]",
      "text/plain": [
       "<matplotlib.figure.Figure at 0x9147ab38>"
      ]
     },
     "metadata": {},
     "output_type": "display_data"
    }
   ],
   "source": [
    "y_train_pred = lm.predict(X_train_2)\n",
    "plt.scatter(y_train_pred, y_train_pred-y_train_2, c='b', s=30, alpha=0.5, label='train')\n",
    "plt.scatter(y_test_pred, y_test_pred-y_test_2, c='g', s=30, alpha=0.5, label='test')\n",
    "plt.hlines(y=0, xmin=0, xmax=80)\n",
    "plt.legend(loc='lower right')\n",
    "plt.title('Residual plot of training and testing process')\n",
    "plt.show()"
   ]
  },
  {
   "cell_type": "markdown",
   "metadata": {},
   "source": [
    "## 4.2 Decision tree"
   ]
  },
  {
   "cell_type": "code",
   "execution_count": 51,
   "metadata": {},
   "outputs": [
    {
     "name": "stdout",
     "output_type": "stream",
     "text": [
      "Best parameters for decision tree:  {'min_samples_split': 120, 'max_leaf_nodes': 20, 'max_depth': 7, 'min_samples_leaf': 45}\n"
     ]
    }
   ],
   "source": [
    "param_grid = {\"min_samples_split\": [45, 80, 120],\n",
    "              \"max_depth\": [2, 4, 7, 10],\n",
    "              \"min_samples_leaf\": [45, 80, 120],\n",
    "              \"max_leaf_nodes\": [4, 12, 20]}\n",
    "\n",
    "dt = tree.DecisionTreeRegressor()\n",
    "g_search = grid_search.GridSearchCV(dt, param_grid=param_grid, cv=5)\n",
    "g_search.fit(X_train_2, y_train_2)\n",
    "best_params = g_search.best_params_\n",
    "print 'Best parameters for decision tree: ', best_params"
   ]
  },
  {
   "cell_type": "code",
   "execution_count": 52,
   "metadata": {},
   "outputs": [],
   "source": [
    "dt_2 = tree.DecisionTreeRegressor(max_depth=4, min_samples_leaf=45)\n",
    "dt_2.fit(X_train_2, y_train_2)\n",
    "y_test_pred = dt_2.predict(X_test_2)"
   ]
  },
  {
   "cell_type": "code",
   "execution_count": 53,
   "metadata": {
    "collapsed": true
   },
   "outputs": [],
   "source": [
    "df_feature_imp = pd.DataFrame({'Name': X_train_2.columns, 'Importance': dt_2.feature_importances_})"
   ]
  },
  {
   "cell_type": "code",
   "execution_count": 54,
   "metadata": {},
   "outputs": [
    {
     "name": "stdout",
     "output_type": "stream",
     "text": [
      "    Importance                 Name\n",
      "0     0.050622          e_reg_hours\n",
      "1     0.126444              vg_dist\n",
      "2     0.567380        u_past_events\n",
      "3     0.096220              vu_dist\n",
      "4     0.000000  group_member_tenure\n",
      "5     0.016673        g_past_events\n",
      "6     0.115336         group_tenure\n",
      "7     0.000000             e_hour_2\n",
      "8     0.000000             e_hour_3\n",
      "9     0.000000             e_hour_4\n",
      "10    0.027326             e_hour_5\n",
      "11    0.000000             e_hour_6\n",
      "12    0.000000              e_day_1\n",
      "13    0.000000              e_day_2\n",
      "14    0.000000              e_day_3\n",
      "15    0.000000              e_day_4\n",
      "16    0.000000              e_day_5\n",
      "17    0.000000              e_day_6\n"
     ]
    }
   ],
   "source": [
    "print df_feature_imp"
   ]
  },
  {
   "cell_type": "markdown",
   "metadata": {
    "collapsed": true
   },
   "source": [
    "# 5. Export model"
   ]
  },
  {
   "cell_type": "code",
   "execution_count": 55,
   "metadata": {
    "collapsed": true
   },
   "outputs": [],
   "source": [
    "with open(\"../model/dt_model.txt\", \"w\") as f:\n",
    "    f = tree.export_graphviz(dt_2, out_file=f, feature_names=X_train.columns)"
   ]
  },
  {
   "cell_type": "code",
   "execution_count": null,
   "metadata": {
    "collapsed": true
   },
   "outputs": [],
   "source": []
  }
 ],
 "metadata": {
  "kernelspec": {
   "display_name": "Python 2",
   "language": "python",
   "name": "python2"
  },
  "language_info": {
   "codemirror_mode": {
    "name": "ipython",
    "version": 2
   },
   "file_extension": ".py",
   "mimetype": "text/x-python",
   "name": "python",
   "nbconvert_exporter": "python",
   "pygments_lexer": "ipython2",
   "version": "2.7.13"
  }
 },
 "nbformat": 4,
 "nbformat_minor": 1
}
