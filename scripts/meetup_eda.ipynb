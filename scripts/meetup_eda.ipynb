{
 "cells": [
  {
   "cell_type": "code",
   "execution_count": 169,
   "metadata": {},
   "outputs": [],
   "source": [
    "import datetime\n",
    "import feature_engg as engg\n",
    "import feature_util as utl\n",
    "import json\n",
    "import math\n",
    "import numpy as np\n",
    "import os\n",
    "import pandas as pd\n",
    "from sklearn import metrics\n",
    "from sklearn import tree\n",
    "from sklearn.linear_model import LinearRegression\n",
    "from sklearn.model_selection import cross_val_predict\n",
    "from sklearn.model_selection import cross_val_score\n",
    "from sklearn.model_selection import train_test_split\n",
    "import subprocess"
   ]
  },
  {
   "cell_type": "code",
   "execution_count": 2,
   "metadata": {},
   "outputs": [
    {
     "name": "stdout",
     "output_type": "stream",
     "text": [
      "<type 'list'>\n",
      "<type 'list'>\n",
      "<type 'list'>\n",
      "<type 'list'>\n"
     ]
    },
    {
     "name": "stderr",
     "output_type": "stream",
     "text": [
      "C:\\Users\\310195644\\AppData\\Local\\Continuum\\Anaconda2\\lib\\site-packages\\IPython\\core\\interactiveshell.py:2717: DtypeWarning: Columns (3) have mixed types. Specify dtype option on import or set low_memory=False.\n",
      "  interactivity=interactivity, compiler=compiler, result=result)\n"
     ]
    }
   ],
   "source": [
    "# cities\n",
    "df_cities = pd.read_csv('../data/world_cities.txt', sep=\",\")\n",
    "df_cities = df_cities[['country', 'city', 'lat', 'lon']]\n",
    "\n",
    "# events\n",
    "df_events = utl.get_df('../data/events.json', encoding='utf-8')\n",
    "\n",
    "# groups\n",
    "df_groups = utl.get_df('../data/groups.json', encoding='utf-8')\n",
    "\n",
    "# users\n",
    "df_users = utl.get_df('../data/users.json', encoding='utf-8')\n",
    "df_users['city'] = df_users.city.str.lower()\n",
    "df_users = df_users.merge(df_cities, on=['country', 'city'])\n",
    "df_users.columns = [str(col) + '_u' for col in df_users.columns]\n",
    "\n",
    "# venues\n",
    "df_venues = utl.get_df('../data/venues.json', encoding='utf-8')\n",
    "df_venues['city'] = df_venues.city.str.lower()\n",
    "df_venues.columns = [str(col) + '_v' for col in df_venues.columns]\n"
   ]
  },
  {
   "cell_type": "code",
   "execution_count": 3,
   "metadata": {},
   "outputs": [],
   "source": [
    "df_events = df_events.assign(event_id=[i+1 for i in xrange(len(df_events))])\n",
    "df_events_flat = utl.flatten_list(df_events, 'rsvps', reset_index=True)\n",
    "df_events_flat = utl.flatten_dict(df_events_flat, 'rsvps')\n",
    "df_events_flat['label'] = df_events_flat.response.apply(lambda x: engg.label_attendance(x))\n",
    "df_events_flat['total_att'] = df_events_flat.label + df_events_flat.guests"
   ]
  },
  {
   "cell_type": "code",
   "execution_count": null,
   "metadata": {},
   "outputs": [],
   "source": [
    "# n_events_peruser = df_events_flat.groupby(['user_id']).agg({'label': 'sum'}).reset_index()\n",
    "# print 'Total attendance: \\n', df_events_flat.total_att.describe()\n",
    "# print '\\nResponse summary: \\n', df_events_flat.response.value_counts()\n",
    "# print '\\nGuest count summary: \\n', df_events_flat.guests.describe()\n",
    "# print 'Number of events attended per user: \\n', n_events_peruser.label.describe()\n",
    "# print '\\nStatus of events:\\n', df_events_flat.status.value_counts()"
   ]
  },
  {
   "cell_type": "code",
   "execution_count": 8,
   "metadata": {},
   "outputs": [],
   "source": [
    "df_events_flat = df_events_flat.merge(df_venues, left_on='venue_id', right_on='venue_id_v', how='left')\n",
    "df_events_flat = df_events_flat.merge(df_users, left_on='user_id', right_on='user_id_u', how='left')\n",
    "del df_events_flat['venue_id_v'], df_events_flat['user_id_u']"
   ]
  },
  {
   "cell_type": "code",
   "execution_count": 88,
   "metadata": {},
   "outputs": [],
   "source": [
    "df_events_flat['uv_sim'] = df_events_flat.apply(lambda row: lat_lon_similarity(row['lat_v'], row['lon_v'], \n",
    "                                                                               row['lat_u'], row['lon_u']), axis=1)\n",
    "df_events_flat = df_events_flat[df_events_flat.time.notnull()]\n",
    "df_events_flat['datetime'] = pd.to_datetime((df_events_flat['time']/1000).astype(int), unit='s')\n",
    "df_events_flat['event_hour'] = df_events_flat.datetime.dt.hour\n",
    "df_events_flat['event_day_of_week'] = df_events_flat.datetime.dt.dayofweek\n",
    "df_events_flat['reg_time'] = (df_events_flat.time - df_events_flat.created) / 3600000"
   ]
  },
  {
   "cell_type": "code",
   "execution_count": 120,
   "metadata": {
    "collapsed": true
   },
   "outputs": [],
   "source": [
    "df_agg = df_events_flat.groupby(['event_id', 'event_hour', 'event_day_of_week', 'reg_time']) \\\n",
    "                       .agg({'uv_sim' : 'mean', 'total_att' : 'sum'}).reset_index()\n",
    "df_agg['event_hour_1'] = df_agg.event_hour.apply(lambda x: event_hour_transform(x))\n",
    "df_agg['day_1'] = np.where(df_agg.event_day_of_week==1, 1, 0)\n",
    "df_agg['day_2'] = np.where(df_agg.event_day_of_week==2, 1, 0)\n",
    "df_agg['day_3'] = np.where(df_agg.event_day_of_week==3, 1, 0)\n",
    "df_agg['day_4'] = np.where(df_agg.event_day_of_week==4, 1, 0)\n",
    "df_agg['day_5'] = np.where(df_agg.event_day_of_week==5, 1, 0)\n",
    "df_agg['day_6'] = np.where(df_agg.event_day_of_week==6, 1, 0)\n",
    "df_agg = df_agg.dropna(axis=0, how='any')\n",
    "df_data = df_agg.drop(['event_id', 'event_hour', 'event_day_of_week'], axis=1)"
   ]
  },
  {
   "cell_type": "code",
   "execution_count": 147,
   "metadata": {},
   "outputs": [
    {
     "data": {
      "text/html": [
       "<div>\n",
       "<table border=\"1\" class=\"dataframe\">\n",
       "  <thead>\n",
       "    <tr style=\"text-align: right;\">\n",
       "      <th></th>\n",
       "      <th>reg_time</th>\n",
       "      <th>uv_sim</th>\n",
       "      <th>event_hour_1</th>\n",
       "      <th>day_1</th>\n",
       "      <th>day_2</th>\n",
       "      <th>day_3</th>\n",
       "      <th>day_4</th>\n",
       "      <th>day_5</th>\n",
       "      <th>day_6</th>\n",
       "    </tr>\n",
       "  </thead>\n",
       "  <tbody>\n",
       "    <tr>\n",
       "      <th>reg_time</th>\n",
       "      <td>1.000000</td>\n",
       "      <td>0.016936</td>\n",
       "      <td>0.051495</td>\n",
       "      <td>-0.068668</td>\n",
       "      <td>0.103961</td>\n",
       "      <td>0.055521</td>\n",
       "      <td>-0.055066</td>\n",
       "      <td>-0.049587</td>\n",
       "      <td>-0.035338</td>\n",
       "    </tr>\n",
       "    <tr>\n",
       "      <th>uv_sim</th>\n",
       "      <td>0.016936</td>\n",
       "      <td>1.000000</td>\n",
       "      <td>0.094458</td>\n",
       "      <td>-0.048447</td>\n",
       "      <td>0.002194</td>\n",
       "      <td>-0.049794</td>\n",
       "      <td>0.007783</td>\n",
       "      <td>0.150462</td>\n",
       "      <td>0.048417</td>\n",
       "    </tr>\n",
       "    <tr>\n",
       "      <th>event_hour_1</th>\n",
       "      <td>0.051495</td>\n",
       "      <td>0.094458</td>\n",
       "      <td>1.000000</td>\n",
       "      <td>-0.154578</td>\n",
       "      <td>-0.076847</td>\n",
       "      <td>-0.062001</td>\n",
       "      <td>0.038706</td>\n",
       "      <td>0.449689</td>\n",
       "      <td>0.117892</td>\n",
       "    </tr>\n",
       "    <tr>\n",
       "      <th>day_1</th>\n",
       "      <td>-0.068668</td>\n",
       "      <td>-0.048447</td>\n",
       "      <td>-0.154578</td>\n",
       "      <td>1.000000</td>\n",
       "      <td>-0.285043</td>\n",
       "      <td>-0.278774</td>\n",
       "      <td>-0.162295</td>\n",
       "      <td>-0.147103</td>\n",
       "      <td>-0.069992</td>\n",
       "    </tr>\n",
       "    <tr>\n",
       "      <th>day_2</th>\n",
       "      <td>0.103961</td>\n",
       "      <td>0.002194</td>\n",
       "      <td>-0.076847</td>\n",
       "      <td>-0.285043</td>\n",
       "      <td>1.000000</td>\n",
       "      <td>-0.338215</td>\n",
       "      <td>-0.196900</td>\n",
       "      <td>-0.178469</td>\n",
       "      <td>-0.084916</td>\n",
       "    </tr>\n",
       "    <tr>\n",
       "      <th>day_3</th>\n",
       "      <td>0.055521</td>\n",
       "      <td>-0.049794</td>\n",
       "      <td>-0.062001</td>\n",
       "      <td>-0.278774</td>\n",
       "      <td>-0.338215</td>\n",
       "      <td>1.000000</td>\n",
       "      <td>-0.192569</td>\n",
       "      <td>-0.174543</td>\n",
       "      <td>-0.083048</td>\n",
       "    </tr>\n",
       "    <tr>\n",
       "      <th>day_4</th>\n",
       "      <td>-0.055066</td>\n",
       "      <td>0.007783</td>\n",
       "      <td>0.038706</td>\n",
       "      <td>-0.162295</td>\n",
       "      <td>-0.196900</td>\n",
       "      <td>-0.192569</td>\n",
       "      <td>1.000000</td>\n",
       "      <td>-0.101615</td>\n",
       "      <td>-0.048348</td>\n",
       "    </tr>\n",
       "    <tr>\n",
       "      <th>day_5</th>\n",
       "      <td>-0.049587</td>\n",
       "      <td>0.150462</td>\n",
       "      <td>0.449689</td>\n",
       "      <td>-0.147103</td>\n",
       "      <td>-0.178469</td>\n",
       "      <td>-0.174543</td>\n",
       "      <td>-0.101615</td>\n",
       "      <td>1.000000</td>\n",
       "      <td>-0.043823</td>\n",
       "    </tr>\n",
       "    <tr>\n",
       "      <th>day_6</th>\n",
       "      <td>-0.035338</td>\n",
       "      <td>0.048417</td>\n",
       "      <td>0.117892</td>\n",
       "      <td>-0.069992</td>\n",
       "      <td>-0.084916</td>\n",
       "      <td>-0.083048</td>\n",
       "      <td>-0.048348</td>\n",
       "      <td>-0.043823</td>\n",
       "      <td>1.000000</td>\n",
       "    </tr>\n",
       "  </tbody>\n",
       "</table>\n",
       "</div>"
      ],
      "text/plain": [
       "              reg_time    uv_sim  event_hour_1     day_1     day_2     day_3  \\\n",
       "reg_time      1.000000  0.016936      0.051495 -0.068668  0.103961  0.055521   \n",
       "uv_sim        0.016936  1.000000      0.094458 -0.048447  0.002194 -0.049794   \n",
       "event_hour_1  0.051495  0.094458      1.000000 -0.154578 -0.076847 -0.062001   \n",
       "day_1        -0.068668 -0.048447     -0.154578  1.000000 -0.285043 -0.278774   \n",
       "day_2         0.103961  0.002194     -0.076847 -0.285043  1.000000 -0.338215   \n",
       "day_3         0.055521 -0.049794     -0.062001 -0.278774 -0.338215  1.000000   \n",
       "day_4        -0.055066  0.007783      0.038706 -0.162295 -0.196900 -0.192569   \n",
       "day_5        -0.049587  0.150462      0.449689 -0.147103 -0.178469 -0.174543   \n",
       "day_6        -0.035338  0.048417      0.117892 -0.069992 -0.084916 -0.083048   \n",
       "\n",
       "                 day_4     day_5     day_6  \n",
       "reg_time     -0.055066 -0.049587 -0.035338  \n",
       "uv_sim        0.007783  0.150462  0.048417  \n",
       "event_hour_1  0.038706  0.449689  0.117892  \n",
       "day_1        -0.162295 -0.147103 -0.069992  \n",
       "day_2        -0.196900 -0.178469 -0.084916  \n",
       "day_3        -0.192569 -0.174543 -0.083048  \n",
       "day_4         1.000000 -0.101615 -0.048348  \n",
       "day_5        -0.101615  1.000000 -0.043823  \n",
       "day_6        -0.048348 -0.043823  1.000000  "
      ]
     },
     "execution_count": 147,
     "metadata": {},
     "output_type": "execute_result"
    }
   ],
   "source": [
    "X.corr(method='pearson')"
   ]
  },
  {
   "cell_type": "code",
   "execution_count": 134,
   "metadata": {},
   "outputs": [],
   "source": [
    "X = df_data.drop('total_att', axis=1)\n",
    "Y = df_data.total_att\n",
    "X_train, X_test, y_train, y_test = train_test_split(X, Y, test_size=0.2, random_state=0)"
   ]
  },
  {
   "cell_type": "code",
   "execution_count": 153,
   "metadata": {},
   "outputs": [
    {
     "data": {
      "text/plain": [
       "0.057243213418054495"
      ]
     },
     "execution_count": 153,
     "metadata": {},
     "output_type": "execute_result"
    }
   ],
   "source": [
    "lm = LinearRegression()\n",
    "lm.fit(X=X_train, y=y_train)\n",
    "# scores = cross_val_score(lm, X_train, y_train, cv=5)\n",
    "# predicted = cross_val_predict(lm, X_test, y_test, cv=5)\n",
    "predicted = lm.predict(X=X_test)\n",
    "metrics.r2_score(y_test, predicted) "
   ]
  },
  {
   "cell_type": "code",
   "execution_count": 143,
   "metadata": {
    "collapsed": true
   },
   "outputs": [],
   "source": [
    "df_result = pd.DataFrame({'target': y_test, 'predict': predicted})"
   ]
  },
  {
   "cell_type": "code",
   "execution_count": 157,
   "metadata": {},
   "outputs": [
    {
     "data": {
      "image/png": "[encoded data removed]",
      "text/plain": [
       "<matplotlib.figure.Figure at 0x58456da0>"
      ]
     },
     "metadata": {},
     "output_type": "display_data"
    }
   ],
   "source": [
    "import matplotlib.pyplot as plt\n",
    "plt.scatter(lm.predict(X_train), lm.predict(X_train)-y_train, c='b', s=30, alpha=0.5)\n",
    "plt.scatter(lm.predict(X_test), lm.predict(X_test)-y_test, c='g', s=30, alpha=0.5)\n",
    "plt.hlines(y=0, xmin=0, xmax=50)\n",
    "plt.title('Residual plot')\n",
    "plt.show()"
   ]
  },
  {
   "cell_type": "code",
   "execution_count": 192,
   "metadata": {},
   "outputs": [],
   "source": [
    "clf = tree.DecisionTreeRegressor(max_depth=3)\n",
    "clf = clf.fit(X_train, y_train)\n",
    "predict = clf.predict(X_test)"
   ]
  },
  {
   "cell_type": "code",
   "execution_count": 193,
   "metadata": {},
   "outputs": [
    {
     "data": {
      "text/plain": [
       "array([ 40.09580838,  13.81919452,  40.09580838, ...,  22.61370717,\n",
       "        22.61370717,  22.61370717])"
      ]
     },
     "execution_count": 193,
     "metadata": {},
     "output_type": "execute_result"
    }
   ],
   "source": [
    "predict"
   ]
  },
  {
   "cell_type": "code",
   "execution_count": 194,
   "metadata": {},
   "outputs": [
    {
     "name": "stdout",
     "output_type": "stream",
     "text": [
      "R2 is  0.164879470619\n"
     ]
    }
   ],
   "source": [
    "print \"R2 is \", metrics.r2_score(y_test, predict)"
   ]
  },
  {
   "cell_type": "code",
   "execution_count": 195,
   "metadata": {},
   "outputs": [],
   "source": [
    "def visualize_tree(clf, feature_names):\n",
    "    \"\"\"Create tree png using graphviz.\n",
    "\n",
    "    Args\n",
    "    ----\n",
    "    tree -- scikit-learn DecsisionTree.\n",
    "    feature_names -- list of feature names.\n",
    "    \"\"\"\n",
    "    with open(\"dt.dot\", 'w') as f:\n",
    "        tree.export_graphviz(clf, out_file=f,\n",
    "                        feature_names=feature_names)\n",
    "\n",
    "    command = [\"dot\", \"-Tpng\", \"dt.dot\", \"-o\", \"./dt.png\"]\n",
    "    try:\n",
    "        subprocess.check_call(command)\n",
    "    except:\n",
    "        exit(\"Could not run dot, ie graphviz, to \"\n",
    "             \"produce visualization\")"
   ]
  },
  {
   "cell_type": "code",
   "execution_count": 196,
   "metadata": {
    "collapsed": true
   },
   "outputs": [],
   "source": [
    "features = X.columns"
   ]
  },
  {
   "cell_type": "code",
   "execution_count": 197,
   "metadata": {},
   "outputs": [],
   "source": [
    "visualize_tree(clf, features)"
   ]
  },
  {
   "cell_type": "code",
   "execution_count": 198,
   "metadata": {
    "collapsed": true
   },
   "outputs": [],
   "source": [
    "with open(\"attend_reg.txt\", \"w\") as f:\n",
    "    f = tree.export_graphviz(clf, out_file=f, feature_names=features)"
   ]
  },
  {
   "cell_type": "code",
   "execution_count": null,
   "metadata": {
    "collapsed": true
   },
   "outputs": [],
   "source": []
  }
 ],
 "metadata": {
  "kernelspec": {
   "display_name": "Python 2",
   "language": "python",
   "name": "python2"
  },
  "language_info": {
   "codemirror_mode": {
    "name": "ipython",
    "version": 2
   },
   "file_extension": ".py",
   "mimetype": "text/x-python",
   "name": "python",
   "nbconvert_exporter": "python",
   "pygments_lexer": "ipython2",
   "version": "2.7.13"
  }
 },
 "nbformat": 4,
 "nbformat_minor": 1
}
