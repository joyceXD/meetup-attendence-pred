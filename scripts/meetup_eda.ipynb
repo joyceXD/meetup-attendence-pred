{
 "cells": [
  {
   "cell_type": "markdown",
   "metadata": {},
   "source": [
    "# 1. Required libraries"
   ]
  },
  {
   "cell_type": "code",
   "execution_count": 454,
   "metadata": {},
   "outputs": [],
   "source": [
    "import datetime\n",
    "import feature_engg as engg\n",
    "import feature_util as utl\n",
    "import gc\n",
    "import gpxpy.geo\n",
    "import graphviz \n",
    "import json\n",
    "import math\n",
    "import matplotlib.pyplot as plt\n",
    "import numpy as np\n",
    "import os\n",
    "import pandas as pd\n",
    "from sklearn import grid_search\n",
    "from sklearn import metrics\n",
    "from sklearn import tree\n",
    "from sklearn import linear_model\n",
    "from sklearn import model_selection\n",
    "import warnings\n",
    "\n",
    "warnings.filterwarnings('ignore')"
   ]
  },
  {
   "cell_type": "markdown",
   "metadata": {},
   "source": [
    "# 2. Load data"
   ]
  },
  {
   "cell_type": "code",
   "execution_count": 2,
   "metadata": {},
   "outputs": [
    {
     "name": "stdout",
     "output_type": "stream",
     "text": [
      "<type 'list'>\n",
      "<type 'list'>\n",
      "<type 'list'>\n",
      "<type 'list'>\n"
     ]
    }
   ],
   "source": [
    "# cities\n",
    "df_cities = pd.read_csv('../data/world_cities.txt', sep=\",\", encoding='latin1')\n",
    "df_cities = df_cities[['country', 'city', 'accent_city', 'lat', 'lon']]\n",
    "df_cities['accent_city'] = df_cities.accent_city.str.lower()\n",
    "\n",
    "# events\n",
    "df_events = utl.get_df('../data/events.json', encoding='latin1')\n",
    "df_events.columns = ['e_' + str(col) for col in df_events.columns]\n",
    "\n",
    "# groups\n",
    "df_groups = utl.get_df('../data/groups.json', encoding='utf-8')\n",
    "df_groups.columns = ['g_' + str(col) for col in df_groups.columns]\n",
    "\n",
    "# users\n",
    "df_users = utl.get_df('../data/users.json', encoding='utf-8')\n",
    "df_users['city'] = df_users.city.str.lower()\n",
    "\n",
    "# venues\n",
    "df_venues = utl.get_df('../data/venues.json', encoding='utf-8')\n",
    "df_venues['city'] = df_venues.city.str.lower()\n",
    "df_venues.columns = ['v_' + str(col) for col in df_venues.columns]"
   ]
  },
  {
   "cell_type": "code",
   "execution_count": 3,
   "metadata": {
    "collapsed": true
   },
   "outputs": [],
   "source": [
    "df_users = df_users.sort(['user_id'], ascending=[1])\n",
    "df_users = df_users.merge(df_cities, left_on=['country', 'city'], right_on=['country', 'accent_city'], how='left')\n",
    "df_users = df_users.drop_duplicates(subset=['user_id'], keep='first')\n",
    "df_users.columns = ['u_' + str(col)  for col in df_users.columns]"
   ]
  },
  {
   "cell_type": "markdown",
   "metadata": {},
   "source": [
    "# 3. Features"
   ]
  },
  {
   "cell_type": "markdown",
   "metadata": {},
   "source": [
    "## 3.1 Event attributes"
   ]
  },
  {
   "cell_type": "code",
   "execution_count": 4,
   "metadata": {},
   "outputs": [
    {
     "data": {
      "text/html": [
       "<div>\n",
       "<table border=\"1\" class=\"dataframe\">\n",
       "  <thead>\n",
       "    <tr style=\"text-align: right;\">\n",
       "      <th></th>\n",
       "      <th>e_venue_id</th>\n",
       "      <th>e_rsvp_limit</th>\n",
       "      <th>e_created</th>\n",
       "      <th>e_time</th>\n",
       "      <th>e_duration</th>\n",
       "    </tr>\n",
       "  </thead>\n",
       "  <tbody>\n",
       "    <tr>\n",
       "      <th>count</th>\n",
       "      <td>6200.000000</td>\n",
       "      <td>2211.000000</td>\n",
       "      <td>6.200000e+03</td>\n",
       "      <td>6.183000e+03</td>\n",
       "      <td>2.600000e+03</td>\n",
       "    </tr>\n",
       "    <tr>\n",
       "      <th>mean</th>\n",
       "      <td>67959.885484</td>\n",
       "      <td>47.700588</td>\n",
       "      <td>1.386568e+12</td>\n",
       "      <td>1.395698e+12</td>\n",
       "      <td>2.411515e+07</td>\n",
       "    </tr>\n",
       "    <tr>\n",
       "      <th>std</th>\n",
       "      <td>488.481235</td>\n",
       "      <td>42.778604</td>\n",
       "      <td>4.081886e+10</td>\n",
       "      <td>3.952652e+10</td>\n",
       "      <td>6.576107e+07</td>\n",
       "    </tr>\n",
       "    <tr>\n",
       "      <th>min</th>\n",
       "      <td>67082.000000</td>\n",
       "      <td>1.000000</td>\n",
       "      <td>1.172849e+12</td>\n",
       "      <td>1.173946e+12</td>\n",
       "      <td>2.700000e+06</td>\n",
       "    </tr>\n",
       "    <tr>\n",
       "      <th>25%</th>\n",
       "      <td>67563.000000</td>\n",
       "      <td>20.000000</td>\n",
       "      <td>1.361802e+12</td>\n",
       "      <td>1.371807e+12</td>\n",
       "      <td>7.200000e+06</td>\n",
       "    </tr>\n",
       "    <tr>\n",
       "      <th>50%</th>\n",
       "      <td>67951.000000</td>\n",
       "      <td>40.000000</td>\n",
       "      <td>1.393498e+12</td>\n",
       "      <td>1.404758e+12</td>\n",
       "      <td>1.080000e+07</td>\n",
       "    </tr>\n",
       "    <tr>\n",
       "      <th>75%</th>\n",
       "      <td>68345.000000</td>\n",
       "      <td>60.000000</td>\n",
       "      <td>1.420825e+12</td>\n",
       "      <td>1.427378e+12</td>\n",
       "      <td>1.620000e+07</td>\n",
       "    </tr>\n",
       "    <tr>\n",
       "      <th>max</th>\n",
       "      <td>68812.000000</td>\n",
       "      <td>500.000000</td>\n",
       "      <td>1.440671e+12</td>\n",
       "      <td>1.472015e+12</td>\n",
       "      <td>1.148400e+09</td>\n",
       "    </tr>\n",
       "  </tbody>\n",
       "</table>\n",
       "</div>"
      ],
      "text/plain": [
       "         e_venue_id  e_rsvp_limit     e_created        e_time    e_duration\n",
       "count   6200.000000   2211.000000  6.200000e+03  6.183000e+03  2.600000e+03\n",
       "mean   67959.885484     47.700588  1.386568e+12  1.395698e+12  2.411515e+07\n",
       "std      488.481235     42.778604  4.081886e+10  3.952652e+10  6.576107e+07\n",
       "min    67082.000000      1.000000  1.172849e+12  1.173946e+12  2.700000e+06\n",
       "25%    67563.000000     20.000000  1.361802e+12  1.371807e+12  7.200000e+06\n",
       "50%    67951.000000     40.000000  1.393498e+12  1.404758e+12  1.080000e+07\n",
       "75%    68345.000000     60.000000  1.420825e+12  1.427378e+12  1.620000e+07\n",
       "max    68812.000000    500.000000  1.440671e+12  1.472015e+12  1.148400e+09"
      ]
     },
     "execution_count": 4,
     "metadata": {},
     "output_type": "execute_result"
    }
   ],
   "source": [
    "df_events.describe()"
   ]
  },
  {
   "cell_type": "code",
   "execution_count": 5,
   "metadata": {
    "collapsed": true
   },
   "outputs": [],
   "source": [
    "df_events = df_events.assign(e_event_id=[i+1 for i in xrange(len(df_events))])\n",
    "df_events = df_events[df_events.e_time.notnull()]\n",
    "df_events['e_datetime'] = pd.to_datetime((df_events['e_time']/1000).astype(int), unit='s')\n",
    "df_events['e_hour'] = df_events.e_datetime.dt.hour\n",
    "df_events['e_dow'] = df_events.e_datetime.dt.dayofweek\n",
    "df_events['e_reg_hours'] = (df_events.e_time - df_events.e_created) / 3600000"
   ]
  },
  {
   "cell_type": "markdown",
   "metadata": {},
   "source": [
    "## 3.2 Group attributes"
   ]
  },
  {
   "cell_type": "code",
   "execution_count": 6,
   "metadata": {},
   "outputs": [
    {
     "data": {
      "text/html": [
       "<div>\n",
       "<table border=\"1\" class=\"dataframe\">\n",
       "  <thead>\n",
       "    <tr style=\"text-align: right;\">\n",
       "      <th></th>\n",
       "      <th>g_created</th>\n",
       "      <th>g_lon</th>\n",
       "      <th>g_lat</th>\n",
       "    </tr>\n",
       "  </thead>\n",
       "  <tbody>\n",
       "    <tr>\n",
       "      <th>count</th>\n",
       "      <td>7.110000e+02</td>\n",
       "      <td>711.000000</td>\n",
       "      <td>711.000000</td>\n",
       "    </tr>\n",
       "    <tr>\n",
       "      <th>mean</th>\n",
       "      <td>1.394015e+12</td>\n",
       "      <td>5.269170</td>\n",
       "      <td>51.965724</td>\n",
       "    </tr>\n",
       "    <tr>\n",
       "      <th>std</th>\n",
       "      <td>4.303401e+10</td>\n",
       "      <td>0.889074</td>\n",
       "      <td>0.572717</td>\n",
       "    </tr>\n",
       "    <tr>\n",
       "      <th>min</th>\n",
       "      <td>1.172849e+12</td>\n",
       "      <td>3.130000</td>\n",
       "      <td>50.930000</td>\n",
       "    </tr>\n",
       "    <tr>\n",
       "      <th>25%</th>\n",
       "      <td>1.372933e+12</td>\n",
       "      <td>4.890000</td>\n",
       "      <td>51.439999</td>\n",
       "    </tr>\n",
       "    <tr>\n",
       "      <th>50%</th>\n",
       "      <td>1.407404e+12</td>\n",
       "      <td>4.890000</td>\n",
       "      <td>52.099998</td>\n",
       "    </tr>\n",
       "    <tr>\n",
       "      <th>75%</th>\n",
       "      <td>1.426360e+12</td>\n",
       "      <td>5.470000</td>\n",
       "      <td>52.369999</td>\n",
       "    </tr>\n",
       "    <tr>\n",
       "      <th>max</th>\n",
       "      <td>1.440612e+12</td>\n",
       "      <td>7.200000</td>\n",
       "      <td>53.230000</td>\n",
       "    </tr>\n",
       "  </tbody>\n",
       "</table>\n",
       "</div>"
      ],
      "text/plain": [
       "          g_created       g_lon       g_lat\n",
       "count  7.110000e+02  711.000000  711.000000\n",
       "mean   1.394015e+12    5.269170   51.965724\n",
       "std    4.303401e+10    0.889074    0.572717\n",
       "min    1.172849e+12    3.130000   50.930000\n",
       "25%    1.372933e+12    4.890000   51.439999\n",
       "50%    1.407404e+12    4.890000   52.099998\n",
       "75%    1.426360e+12    5.470000   52.369999\n",
       "max    1.440612e+12    7.200000   53.230000"
      ]
     },
     "execution_count": 6,
     "metadata": {},
     "output_type": "execute_result"
    }
   ],
   "source": [
    "df_groups.describe()"
   ]
  },
  {
   "cell_type": "markdown",
   "metadata": {},
   "source": [
    "## 3.3 User attributes"
   ]
  },
  {
   "cell_type": "code",
   "execution_count": 7,
   "metadata": {},
   "outputs": [
    {
     "data": {
      "text/html": [
       "<div>\n",
       "<table border=\"1\" class=\"dataframe\">\n",
       "  <thead>\n",
       "    <tr style=\"text-align: right;\">\n",
       "      <th></th>\n",
       "      <th>u_user_id</th>\n",
       "      <th>u_lat</th>\n",
       "      <th>u_lon</th>\n",
       "    </tr>\n",
       "  </thead>\n",
       "  <tbody>\n",
       "    <tr>\n",
       "      <th>count</th>\n",
       "      <td>57773.000000</td>\n",
       "      <td>57192.000000</td>\n",
       "      <td>57192.000000</td>\n",
       "    </tr>\n",
       "    <tr>\n",
       "      <th>mean</th>\n",
       "      <td>38193.992955</td>\n",
       "      <td>50.538063</td>\n",
       "      <td>3.663417</td>\n",
       "    </tr>\n",
       "    <tr>\n",
       "      <th>std</th>\n",
       "      <td>16678.304214</td>\n",
       "      <td>8.266970</td>\n",
       "      <td>22.023226</td>\n",
       "    </tr>\n",
       "    <tr>\n",
       "      <th>min</th>\n",
       "      <td>9307.000000</td>\n",
       "      <td>-43.533333</td>\n",
       "      <td>-170.275000</td>\n",
       "    </tr>\n",
       "    <tr>\n",
       "      <th>25%</th>\n",
       "      <td>23751.000000</td>\n",
       "      <td>51.481431</td>\n",
       "      <td>4.500000</td>\n",
       "    </tr>\n",
       "    <tr>\n",
       "      <th>50%</th>\n",
       "      <td>38194.000000</td>\n",
       "      <td>52.093813</td>\n",
       "      <td>4.916667</td>\n",
       "    </tr>\n",
       "    <tr>\n",
       "      <th>75%</th>\n",
       "      <td>52637.000000</td>\n",
       "      <td>52.350000</td>\n",
       "      <td>5.389526</td>\n",
       "    </tr>\n",
       "    <tr>\n",
       "      <th>max</th>\n",
       "      <td>67081.000000</td>\n",
       "      <td>64.200000</td>\n",
       "      <td>174.783333</td>\n",
       "    </tr>\n",
       "  </tbody>\n",
       "</table>\n",
       "</div>"
      ],
      "text/plain": [
       "          u_user_id         u_lat         u_lon\n",
       "count  57773.000000  57192.000000  57192.000000\n",
       "mean   38193.992955     50.538063      3.663417\n",
       "std    16678.304214      8.266970     22.023226\n",
       "min     9307.000000    -43.533333   -170.275000\n",
       "25%    23751.000000     51.481431      4.500000\n",
       "50%    38194.000000     52.093813      4.916667\n",
       "75%    52637.000000     52.350000      5.389526\n",
       "max    67081.000000     64.200000    174.783333"
      ]
     },
     "execution_count": 7,
     "metadata": {},
     "output_type": "execute_result"
    }
   ],
   "source": [
    "df_users.describe()"
   ]
  },
  {
   "cell_type": "code",
   "execution_count": 8,
   "metadata": {
    "collapsed": true
   },
   "outputs": [],
   "source": [
    "df_users = df_users[df_users.u_lat.notnull()]"
   ]
  },
  {
   "cell_type": "code",
   "execution_count": 9,
   "metadata": {},
   "outputs": [
    {
     "data": {
      "text/plain": [
       "(57192, 9)"
      ]
     },
     "execution_count": 9,
     "metadata": {},
     "output_type": "execute_result"
    }
   ],
   "source": [
    "df_users.shape"
   ]
  },
  {
   "cell_type": "markdown",
   "metadata": {},
   "source": [
    "## 3.4 Venue attributes"
   ]
  },
  {
   "cell_type": "code",
   "execution_count": 10,
   "metadata": {},
   "outputs": [
    {
     "data": {
      "text/html": [
       "<div>\n",
       "<table border=\"1\" class=\"dataframe\">\n",
       "  <thead>\n",
       "    <tr style=\"text-align: right;\">\n",
       "      <th></th>\n",
       "      <th>v_venue_id</th>\n",
       "      <th>v_lon</th>\n",
       "      <th>v_lat</th>\n",
       "    </tr>\n",
       "  </thead>\n",
       "  <tbody>\n",
       "    <tr>\n",
       "      <th>count</th>\n",
       "      <td>1732.00000</td>\n",
       "      <td>1731.000000</td>\n",
       "      <td>1731.000000</td>\n",
       "    </tr>\n",
       "    <tr>\n",
       "      <th>mean</th>\n",
       "      <td>67947.50000</td>\n",
       "      <td>4.626416</td>\n",
       "      <td>50.060030</td>\n",
       "    </tr>\n",
       "    <tr>\n",
       "      <th>std</th>\n",
       "      <td>500.12965</td>\n",
       "      <td>8.932724</td>\n",
       "      <td>9.779613</td>\n",
       "    </tr>\n",
       "    <tr>\n",
       "      <th>min</th>\n",
       "      <td>67082.00000</td>\n",
       "      <td>-122.655571</td>\n",
       "      <td>-33.865340</td>\n",
       "    </tr>\n",
       "    <tr>\n",
       "      <th>25%</th>\n",
       "      <td>67514.75000</td>\n",
       "      <td>4.489095</td>\n",
       "      <td>51.447849</td>\n",
       "    </tr>\n",
       "    <tr>\n",
       "      <th>50%</th>\n",
       "      <td>67947.50000</td>\n",
       "      <td>4.896400</td>\n",
       "      <td>52.092468</td>\n",
       "    </tr>\n",
       "    <tr>\n",
       "      <th>75%</th>\n",
       "      <td>68380.25000</td>\n",
       "      <td>5.277729</td>\n",
       "      <td>52.366380</td>\n",
       "    </tr>\n",
       "    <tr>\n",
       "      <th>max</th>\n",
       "      <td>68813.00000</td>\n",
       "      <td>151.206670</td>\n",
       "      <td>59.327885</td>\n",
       "    </tr>\n",
       "  </tbody>\n",
       "</table>\n",
       "</div>"
      ],
      "text/plain": [
       "        v_venue_id        v_lon        v_lat\n",
       "count   1732.00000  1731.000000  1731.000000\n",
       "mean   67947.50000     4.626416    50.060030\n",
       "std      500.12965     8.932724     9.779613\n",
       "min    67082.00000  -122.655571   -33.865340\n",
       "25%    67514.75000     4.489095    51.447849\n",
       "50%    67947.50000     4.896400    52.092468\n",
       "75%    68380.25000     5.277729    52.366380\n",
       "max    68813.00000   151.206670    59.327885"
      ]
     },
     "execution_count": 10,
     "metadata": {},
     "output_type": "execute_result"
    }
   ],
   "source": [
    "df_venues.describe()"
   ]
  },
  {
   "cell_type": "code",
   "execution_count": 11,
   "metadata": {
    "collapsed": true
   },
   "outputs": [],
   "source": [
    "df_venues = df_venues[df_venues.v_lat.notnull()]"
   ]
  },
  {
   "cell_type": "markdown",
   "metadata": {},
   "source": [
    "## 3.5 Feature engineering"
   ]
  },
  {
   "cell_type": "code",
   "execution_count": 12,
   "metadata": {
    "scrolled": true
   },
   "outputs": [
    {
     "data": {
      "text/plain": [
       "(6183, 15)"
      ]
     },
     "execution_count": 12,
     "metadata": {},
     "output_type": "execute_result"
    }
   ],
   "source": [
    "print 'df_events shape: ', df_events.shape\n",
    "print 'df_events columns: ', df_events.columns"
   ]
  },
  {
   "cell_type": "code",
   "execution_count": 14,
   "metadata": {
    "collapsed": true
   },
   "outputs": [],
   "source": [
    "df_events = df_events.merge(df_venues, left_on='e_venue_id', right_on='v_venue_id', how='left')\n",
    "df_events = df_events.merge(df_groups, left_on='e_group_id', right_on='g_group_id', how='left')\n",
    "del df_events['v_venue_id']\n",
    "del df_events['g_group_id']"
   ]
  },
  {
   "cell_type": "code",
   "execution_count": 16,
   "metadata": {
    "collapsed": true
   },
   "outputs": [],
   "source": [
    "df_events_flat = utl.flatten_list(df_events, 'e_rsvps', reset_index=True)\n",
    "df_events_flat = utl.flatten_dict(df_events_flat, 'e_rsvps')\n",
    "df_events_flat['e_response_num'] = df_events_flat.response.apply(lambda x: engg.label_attendance(x))\n",
    "df_events_flat['e_total_attend'] = df_events_flat.e_response_num + df_events_flat.guests"
   ]
  },
  {
   "cell_type": "code",
   "execution_count": 19,
   "metadata": {
    "collapsed": true
   },
   "outputs": [],
   "source": [
    "df_events_flat = df_events_flat.merge(df_users, left_on='user_id', right_on='u_user_id', how='left')\n",
    "df_events_flat = df_events_flat[df_events_flat.u_user_id.notnull()]\n",
    "del df_events_flat['u_user_id']"
   ]
  },
  {
   "cell_type": "code",
   "execution_count": null,
   "metadata": {
    "collapsed": true
   },
   "outputs": [],
   "source": [
    "# n_events_peruser = df_events_flat.groupby(['user_id']).agg({'label': 'sum'}).reset_index()\n",
    "# print 'Total attendance: \\n', df_events_flat.total_att.describe()\n",
    "# print '\\nResponse summary: \\n', df_events_flat.response.value_counts()\n",
    "# print '\\nGuest count summary: \\n', df_events_flat.guests.describe()\n",
    "# print 'Number of events attended per user: \\n', n_events_peruser.label.describe()\n",
    "# print '\\nStatus of events:\\n', df_events_flat.status.value_counts()"
   ]
  },
  {
   "cell_type": "code",
   "execution_count": 20,
   "metadata": {
    "collapsed": true
   },
   "outputs": [],
   "source": [
    "df_events_flat['vu_dist'] = df_events_flat.apply(lambda row: gpxpy.geo.haversine_distance(row['v_lat'], row['v_lon'], \n",
    "                                                                                          row['u_lat'], row['u_lon']), axis=1)\n",
    "df_events_flat['vg_dist'] = df_events_flat.apply(lambda row: gpxpy.geo.haversine_distance(row['v_lat'], row['v_lon'], \n",
    "                                                                                          row['g_lat'], row['g_lon']), axis=1)"
   ]
  },
  {
   "cell_type": "code",
   "execution_count": 25,
   "metadata": {
    "collapsed": true
   },
   "outputs": [],
   "source": [
    "df_events_flat['group_tenure'] = (df_events_flat.e_time - df_events_flat.g_created) / 86400000"
   ]
  },
  {
   "cell_type": "code",
   "execution_count": 26,
   "metadata": {},
   "outputs": [
    {
     "data": {
      "text/plain": [
       "count    172567.000000\n",
       "mean        637.769542\n",
       "std         524.798557\n",
       "min           0.090625\n",
       "25%         217.103218\n",
       "50%         522.203252\n",
       "75%         926.092164\n",
       "max        3169.688449\n",
       "Name: group_tenure, dtype: float64"
      ]
     },
     "execution_count": 26,
     "metadata": {},
     "output_type": "execute_result"
    }
   ],
   "source": [
    "df_events_flat['group_tenure'].describe()"
   ]
  },
  {
   "cell_type": "code",
   "execution_count": 27,
   "metadata": {
    "collapsed": true
   },
   "outputs": [],
   "source": [
    "df_memberships = df_events_flat.groupby('user_id').agg(lambda x: x.iloc[0]).reset_index()\n",
    "df_memberships = utl.flatten_list(df_memberships, 'u_memberships', reset_index=True)\n",
    "df_memberships = df_memberships[['user_id', 'u_memberships']]\n",
    "df_memberships = utl.flatten_dict(df_memberships, 'u_memberships')\n",
    "df_memberships.columns = ['m_' + str(col) for col in df_memberships.columns]"
   ]
  },
  {
   "cell_type": "code",
   "execution_count": 28,
   "metadata": {
    "collapsed": true
   },
   "outputs": [],
   "source": [
    "df_events_flat = df_events_flat.merge(df_memberships, left_on=['user_id', 'e_group_id'], right_on=['m_user_id', 'm_group_id'],\n",
    "                                    how='left')\n",
    "del df_events_flat['u_memberships']\n",
    "del df_events_flat['m_user_id']\n",
    "del df_events_flat['m_group_id']"
   ]
  },
  {
   "cell_type": "code",
   "execution_count": 29,
   "metadata": {
    "collapsed": true
   },
   "outputs": [],
   "source": [
    "df_events_flat['group_member_tenure'] = (df_events_flat.e_time - df_events_flat.m_joined) / 86400000"
   ]
  },
  {
   "cell_type": "code",
   "execution_count": 121,
   "metadata": {
    "collapsed": true
   },
   "outputs": [],
   "source": [
    "df_group_events = df_events_flat[['e_event_id', 'e_time', 'e_group_id']]\n",
    "df_group_events = df_group_events.drop_duplicates(subset='e_event_id', keep='first')\n",
    "df_group_events['g_past_events'] = df_group_events.e_event_id.apply(lambda x: engg.count_past_events(df_group_events, x))"
   ]
  },
  {
   "cell_type": "code",
   "execution_count": 281,
   "metadata": {},
   "outputs": [
    {
     "data": {
      "text/plain": [
       "(3343, 4)"
      ]
     },
     "execution_count": 281,
     "metadata": {},
     "output_type": "execute_result"
    }
   ],
   "source": [
    "df_group_events[df_group_events.past_events==0].shape"
   ]
  },
  {
   "cell_type": "code",
   "execution_count": 283,
   "metadata": {},
   "outputs": [
    {
     "data": {
      "text/plain": [
       "(6178, 4)"
      ]
     },
     "execution_count": 283,
     "metadata": {},
     "output_type": "execute_result"
    }
   ],
   "source": [
    "df_group_events.shape"
   ]
  },
  {
   "cell_type": "code",
   "execution_count": 175,
   "metadata": {},
   "outputs": [],
   "source": [
    "df_user_events = df_events_flat[['e_event_id', 'e_time', 'user_id']]\n",
    "df_user_events = df_user_events.drop_duplicates(subset=['e_event_id', 'user_id'], keep='first')\n",
    "df_user_events['u_past_events'] = df_user_events.apply(lambda row: engg.count_past_user_events(df_user_events, row.user_id, row.e_event_id), 1)"
   ]
  },
  {
   "cell_type": "code",
   "execution_count": 193,
   "metadata": {
    "collapsed": true
   },
   "outputs": [],
   "source": [
    "df_events_flat = df_events_flat.merge(df_group_events, on='e_event_id', how='left')"
   ]
  },
  {
   "cell_type": "code",
   "execution_count": 200,
   "metadata": {
    "collapsed": true
   },
   "outputs": [],
   "source": [
    "df_events_flat = df_events_flat.merge(df_user_events, on=['e_event_id', 'user_id'], how='left')"
   ]
  },
  {
   "cell_type": "code",
   "execution_count": 279,
   "metadata": {},
   "outputs": [
    {
     "data": {
      "text/plain": [
       "(57155, 48)"
      ]
     },
     "execution_count": 279,
     "metadata": {},
     "output_type": "execute_result"
    }
   ],
   "source": [
    "df_events_flat[df_events_flat.g_past_events>=1].shape"
   ]
  },
  {
   "cell_type": "code",
   "execution_count": 197,
   "metadata": {
    "collapsed": true
   },
   "outputs": [],
   "source": [
    "del df_events_flat['e_time_y'], df_events_flat['e_group_id_y']"
   ]
  },
  {
   "cell_type": "code",
   "execution_count": 202,
   "metadata": {},
   "outputs": [
    {
     "data": {
      "text/plain": [
       "Index([           u'e_status',          u'e_venue_id',       u'e_description',\n",
       "              u'e_rsvp_limit',           u'e_created',            u'e_time_x',\n",
       "                u'e_duration',        u'e_group_id_x',              u'e_name',\n",
       "                u'e_event_id',          u'e_datetime',              u'e_hour',\n",
       "                     u'e_dow',         u'e_reg_hours',              u'v_city',\n",
       "                    u'v_name',           u'v_country',               u'v_lon',\n",
       "                     u'v_lat',              u'g_city',       u'g_description',\n",
       "                 u'g_created',            u'g_topics',               u'g_lon',\n",
       "                    u'g_link',               u'g_lat',              u'g_name',\n",
       "                    u'guests',            u'response',             u'user_id',\n",
       "                      u'when',      u'e_response_num',      u'e_total_attend',\n",
       "                  u'u_city_x',          u'u_hometown',           u'u_country',\n",
       "                  u'u_city_y',       u'u_accent_city',               u'u_lat',\n",
       "                     u'u_lon',             u'vu_dist',             u'vg_dist',\n",
       "              u'group_tenure',            u'm_joined', u'group_member_tenure',\n",
       "             u'g_past_events',              u'e_time',       u'u_past_events'],\n",
       "      dtype='object')"
      ]
     },
     "execution_count": 202,
     "metadata": {},
     "output_type": "execute_result"
    }
   ],
   "source": [
    "df_events_flat.columns"
   ]
  },
  {
   "cell_type": "markdown",
   "metadata": {},
   "source": [
    "# 4. Generate training data"
   ]
  },
  {
   "cell_type": "code",
   "execution_count": 500,
   "metadata": {},
   "outputs": [],
   "source": [
    "df_agg = df_events_flat.groupby(['e_event_id', 'e_hour', 'e_dow', 'e_reg_hours']) \\\n",
    "                       .agg({'vu_dist' : 'median',\n",
    "                             'vg_dist':'median', \n",
    "                             'group_tenure': 'mean',\n",
    "                             'group_member_tenure': 'mean',\n",
    "                             'g_past_events': 'mean',\n",
    "                             'u_past_events': 'median',\n",
    "                             'e_total_attend' : 'sum'}).reset_index()\n",
    "# df_agg['e_hour_1'] = np.where(np.logical_or(df_agg.e_hour<=2, df_agg.e_hour > 22), 1, 0)\n",
    "df_agg['e_hour_2'] = np.where(np.logical_and(df_agg.e_hour>2, df_agg.e_hour <= 6), 1, 0)\n",
    "df_agg['e_hour_3'] = np.where(np.logical_and(df_agg.e_hour>6, df_agg.e_hour <= 10), 1, 0)\n",
    "df_agg['e_hour_4'] = np.where(np.logical_and(df_agg.e_hour>10, df_agg.e_hour <= 14), 1, 0)\n",
    "df_agg['e_hour_5'] = np.where(np.logical_and(df_agg.e_hour>14, df_agg.e_hour <= 18), 1, 0)\n",
    "df_agg['e_hour_6'] = np.where(np.logical_and(df_agg.e_hour>18, df_agg.e_hour <= 22), 1, 0)\n",
    "df_agg['e_day_1'] = np.where(df_agg.e_dow==1, 1, 0)\n",
    "df_agg['e_day_2'] = np.where(df_agg.e_dow==2, 1, 0)\n",
    "df_agg['e_day_3'] = np.where(df_agg.e_dow==3, 1, 0)\n",
    "df_agg['e_day_4'] = np.where(df_agg.e_dow==4, 1, 0)\n",
    "df_agg['e_day_5'] = np.where(df_agg.e_dow==5, 1, 0)\n",
    "df_agg['e_day_6'] = np.where(df_agg.e_dow==6, 1, 0)\n",
    "# df_agg['e_day_7'] = np.where(df_agg.e_dow==7, 1, 0)\n",
    "df_agg = df_agg.dropna(axis=0, how='any')\n",
    "df_data = df_agg.drop(['e_event_id', 'e_hour', 'e_dow'], axis=1)"
   ]
  },
  {
   "cell_type": "code",
   "execution_count": 501,
   "metadata": {},
   "outputs": [
    {
     "name": "stdout",
     "output_type": "stream",
     "text": [
      "Venue and user distance quantile 96%:  357576.367333\n",
      "Venue and group distance quantile 96%:  151688.495304\n"
     ]
    }
   ],
   "source": [
    "print 'Venue and user distance quantile 96%: ', df_data.vu_dist.quantile(.96)\n",
    "print 'Venue and group distance quantile 96%: ', df_data.vg_dist.quantile(.96)"
   ]
  },
  {
   "cell_type": "code",
   "execution_count": 497,
   "metadata": {},
   "outputs": [],
   "source": [
    "df_data = df_data[df_data.vu_dist < df_data.vu_dist.quantile(.96)]\n",
    "df_data = df_data[df_data.vg_dist < df_data.vg_dist.quantile(.96)]"
   ]
  },
  {
   "cell_type": "code",
   "execution_count": 371,
   "metadata": {},
   "outputs": [],
   "source": [
    "var_names = ['e_reg_hours', 'u_past_events', 'vg_dist', 'vu_dist', 'group_member_tenure', 'group_tenure']\n",
    "\n",
    "def generate_plot(df_data, fn, var_names):\n",
    "    for var_name in var_names:\n",
    "        x_data = df_data[var_name].values\n",
    "        y_data = df_data.e_total_attend.values\n",
    "        plt.scatter(x_data, y_data, alpha=0.3)\n",
    "        plt.title('Scatter plot {} vs. attendant number'.format(var_name))\n",
    "        plt.xlabel(var_name)\n",
    "        plt.ylabel('Total_attend')\n",
    "        plt.savefig('../plot/plot_{}_{}.png'.format(fn, var_name))\n",
    "        plt.clf()\n",
    "        x_data = []\n",
    "        y_data = []\n"
   ]
  },
  {
   "cell_type": "code",
   "execution_count": 378,
   "metadata": {},
   "outputs": [],
   "source": [
    "generate_plot(df_data, '', var_names)\n",
    "generate_plot(df_data_1, '1', var_names)\n",
    "generate_plot(df_data_2, '2', var_names)"
   ]
  },
  {
   "cell_type": "code",
   "execution_count": 504,
   "metadata": {},
   "outputs": [],
   "source": [
    "df_data_1 = df_data[df_data.g_past_events == 0]\n",
    "del df_data_1['g_past_events']\n",
    "df_data_2 = df_data[df_data.g_past_events > 0]\n",
    "\n",
    "X = df_data.drop('e_total_attend', axis=1)\n",
    "Y = df_data.e_total_attend\n",
    "X_train, X_test, y_train, y_test = model_selection.train_test_split(X, Y, test_size=0.2, random_state=999)\n",
    "# X.corr(method='pearson')\n",
    "X_1 = df_data_1.drop('e_total_attend', axis=1)\n",
    "Y_1 = df_data_1.e_total_attend\n",
    "X_train_1, X_test_1, y_train_1, y_test_1 = model_selection.train_test_split(X_1, Y_1, test_size=0.2, random_state=999)\n",
    "# X_1.corr(method='pearson')\n",
    "X_2 = df_data_2.drop('e_total_attend', axis=1)\n",
    "Y_2 = df_data_2.e_total_attend\n",
    "X_train_2, X_test_2, y_train_2, y_test_2 = model_selection.train_test_split(X_2, Y_2, test_size=0.2, random_state=999)\n",
    "# X_2.corr(method='pearson')"
   ]
  },
  {
   "cell_type": "markdown",
   "metadata": {},
   "source": [
    "# 5. Model building"
   ]
  },
  {
   "cell_type": "markdown",
   "metadata": {},
   "source": [
    "## 5.1 Regression"
   ]
  },
  {
   "cell_type": "code",
   "execution_count": 444,
   "metadata": {},
   "outputs": [
    {
     "name": "stdout",
     "output_type": "stream",
     "text": [
      "R2 score for the linear regression model is: 0.166001907802\n"
     ]
    }
   ],
   "source": [
    "lm = linear_model.LinearRegression(fit_intercept=True, normalize=True, copy_X=False)\n",
    "lm.fit(X=X_train_2, y=y_train_2)\n",
    "# scores = model_selection.cross_val_score(lm, X_train, y_train, cv=5)\n",
    "# print scores\n",
    "# y_test_pred = model_selection.cross_val_predict(lm, X_test, y_test, cv=5)\n",
    "y_test_pred = lm.predict(X_test_2)\n",
    "print 'R2 score for the linear regression model is:', metrics.r2_score(y_test_2, y_test_pred)"
   ]
  },
  {
   "cell_type": "code",
   "execution_count": 445,
   "metadata": {},
   "outputs": [
    {
     "data": {
      "image/png": "[encoded data removed]",
      "text/plain": [
       "<matplotlib.figure.Figure at 0x63540fd0>"
      ]
     },
     "metadata": {},
     "output_type": "display_data"
    }
   ],
   "source": [
    "y_train_pred = lm.predict(X_train_2)\n",
    "plt.scatter(y_train_pred, y_train_pred-y_train_2, c='b', s=30, alpha=0.5, label='train')\n",
    "plt.scatter(y_test_pred, y_test_pred-y_test_2, c='g', s=30, alpha=0.5, label='test')\n",
    "plt.hlines(y=0, xmin=0, xmax=80)\n",
    "plt.legend(loc='lower right')\n",
    "plt.title('Residual plot of training and testing process')\n",
    "plt.show()"
   ]
  },
  {
   "cell_type": "markdown",
   "metadata": {},
   "source": [
    "## 4.2 Decision tree"
   ]
  },
  {
   "cell_type": "code",
   "execution_count": 493,
   "metadata": {},
   "outputs": [
    {
     "name": "stdout",
     "output_type": "stream",
     "text": [
      "Best parameter setting for decision tree is:  {'min_samples_split': 120, 'max_leaf_nodes': 20, 'max_depth': 4, 'min_samples_leaf': 40}\n"
     ]
    }
   ],
   "source": [
    "param_grid = {\"min_samples_split\": [40, 80, 120],\n",
    "              \"max_depth\": [2, 4, 7, 10],\n",
    "              \"min_samples_leaf\": [40, 80, 120],\n",
    "              \"max_leaf_nodes\": [4, 12, 20]}\n",
    "\n",
    "dt = tree.DecisionTreeRegressor()\n",
    "g_search = grid_search.GridSearchCV(dt, param_grid=param_grid, cv=5)\n",
    "g_search.fit(X_train_2, y_train_2)\n",
    "best_params = g_search.best_params_\n",
    "print 'Best parameter setting for decision tree is: ', best_params"
   ]
  },
  {
   "cell_type": "code",
   "execution_count": 506,
   "metadata": {},
   "outputs": [
    {
     "name": "stdout",
     "output_type": "stream",
     "text": [
      "R2 is  0.236026436702\n"
     ]
    }
   ],
   "source": [
    "dt_2 = tree.DecisionTreeRegressor(max_depth=4, min_samples_leaf=45)\n",
    "dt_2.fit(X_train_2, y_train_2)\n",
    "y_test_pred = dt_2.predict(X_test_2)\n",
    "print \"R2 is \", metrics.r2_score(y_test_2, y_test_pred)"
   ]
  },
  {
   "cell_type": "code",
   "execution_count": 509,
   "metadata": {
    "collapsed": true
   },
   "outputs": [],
   "source": [
    "df_feature_imp = pd.DataFrame({'Name': X_train_2.columns, 'Importance': dt_2.feature_importances_})"
   ]
  },
  {
   "cell_type": "code",
   "execution_count": 513,
   "metadata": {},
   "outputs": [
    {
     "data": {
      "text/plain": [
       "array(['e_reg_hours', 'vg_dist', 'u_past_events', 'vu_dist',\n",
       "       'group_member_tenure', 'g_past_events', 'group_tenure', 'e_hour_2',\n",
       "       'e_hour_3', 'e_hour_4', 'e_hour_5', 'e_hour_6', 'e_day_1',\n",
       "       'e_day_2', 'e_day_3', 'e_day_4', 'e_day_5', 'e_day_6'], dtype=object)"
      ]
     },
     "execution_count": 513,
     "metadata": {},
     "output_type": "execute_result"
    }
   ],
   "source": [
    "df_feature_imp.Name.values"
   ]
  },
  {
   "cell_type": "code",
   "execution_count": 511,
   "metadata": {},
   "outputs": [
    {
     "name": "stdout",
     "output_type": "stream",
     "text": [
      "    Importance                 Name\n",
      "0     0.050622          e_reg_hours\n",
      "1     0.126444              vg_dist\n",
      "2     0.567380        u_past_events\n",
      "3     0.096220              vu_dist\n",
      "4     0.000000  group_member_tenure\n",
      "5     0.016673        g_past_events\n",
      "6     0.115336         group_tenure\n",
      "7     0.000000             e_hour_2\n",
      "8     0.000000             e_hour_3\n",
      "9     0.000000             e_hour_4\n",
      "10    0.027326             e_hour_5\n",
      "11    0.000000             e_hour_6\n",
      "12    0.000000              e_day_1\n",
      "13    0.000000              e_day_2\n",
      "14    0.000000              e_day_3\n",
      "15    0.000000              e_day_4\n",
      "16    0.000000              e_day_5\n",
      "17    0.000000              e_day_6\n"
     ]
    }
   ],
   "source": [
    "print df_feature_imp"
   ]
  },
  {
   "cell_type": "code",
   "execution_count": 495,
   "metadata": {
    "collapsed": true
   },
   "outputs": [],
   "source": [
    "with open(\"../model/dt_model.txt\", \"w\") as f:\n",
    "    f = tree.export_graphviz(clf, out_file=f, feature_names=X_train.columns)"
   ]
  },
  {
   "cell_type": "code",
   "execution_count": null,
   "metadata": {
    "collapsed": true
   },
   "outputs": [],
   "source": []
  }
 ],
 "metadata": {
  "kernelspec": {
   "display_name": "Python 2",
   "language": "python",
   "name": "python2"
  },
  "language_info": {
   "codemirror_mode": {
    "name": "ipython",
    "version": 2
   },
   "file_extension": ".py",
   "mimetype": "text/x-python",
   "name": "python",
   "nbconvert_exporter": "python",
   "pygments_lexer": "ipython2",
   "version": "2.7.13"
  }
 },
 "nbformat": 4,
 "nbformat_minor": 1
}
