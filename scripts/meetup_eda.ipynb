{
 "cells": [
  {
   "cell_type": "code",
   "execution_count": 1,
   "metadata": {},
   "outputs": [],
   "source": [
    "import pandas as pd\n",
    "import import_data"
   ]
  },
  {
   "cell_type": "code",
   "execution_count": 2,
   "metadata": {
    "collapsed": true
   },
   "outputs": [],
   "source": [
    "data_path = '../data/'"
   ]
  },
  {
   "cell_type": "code",
   "execution_count": 7,
   "metadata": {},
   "outputs": [
    {
     "name": "stdout",
     "output_type": "stream",
     "text": [
      "<type 'list'>\n"
     ]
    }
   ],
   "source": [
    "df_events = import_data.parse('../data/events.json', encoding='utf8')"
   ]
  },
  {
   "cell_type": "code",
   "execution_count": 11,
   "metadata": {},
   "outputs": [
    {
     "name": "stdout",
     "output_type": "stream",
     "text": [
      "{u'status': u'past', u'venue_id': 68572, u'description': u'<p><img src=\"http://photos2.meetupstatic.com/photos/event/1/0/3/e/event_11104158.jpeg\" /> Dear\\xa0<b>INTERNATIONALS</b>,</p> <p>\\xa0</p> <p>As I write this, it is officially summer\\u2026.too bad it doesn\\u2019t feel or look like it! But that won\\u2019t stop us, lets have a drink or two together on <b>July 7th!</b> We will keep our fingers crossed that we can enjoy some sun on the rooftop terrace of the Engels Grandcafe Rotterdam. Like always it will start at 18:30 and end around 23:30, looking forward to seeing the \\u201cregulars\\u201d and meeting some new people!</p> <p>\\xa0</p> <p>We will welcome back DJ Rob. For those of you who don\\'t him yet from our borrels, you may have heard him at the Bootleg dj-cafe or\\xa0cafe De\\xa0Witte Aap.</p> <p>\\xa0</p> <p><b>\\xa0</b></p> <p><b>WHAT</b>: Internationals meet Internationals- Midsummer afterwork drink - chat &amp; have fun!<br/><b>WHEN</b>:\\xa0Thursday July 7th from\\xa018:30-23:30.<br/><b>WHERE</b>: at Engels Grandcafe Restaurant Zalen -on the top floor of Engels Groothandelsgebouw.<br/><b>HOW TO GET THERE</b>: next to the Rotterdam Central train station. Stationplein 45 - entrance is from the Stationplein side - take the elevator up to the 7th floor of the building and follow the instructions which will take you to the top floor.\\xa0<br/><b>DRESS CODE</b>:\\xa0none!\\xa0<br/><b>ENTRANCE FEE</b>:<b>\\xa0</b><b>none!</b><br/><b>IMPORTANT</b>: We, the organizers, have the intent to welcome everybody personally, look out for us at entrance or find us mingling with the guests. <i>Don\\'t be shy, as everyone is coming with the same purpose: to relax after a long working day, meet new people and have a good time together. Encourage your international colleagues to join us! It can also be a good opportunity to expand your business network.</i><br/><b>A REQUEST FROM US</b>: If you feel comfortable doing so, please upload a profile picture, so we and the other members can recognize you at the upcoming events, thanks!<br/>&lt;br&gt;&lt;/br&gt;</p> <p><b>*******PLEASE let us know in advance if you will be able to attend the event! This time you will be able to confirm your attendance until the 5th of July*****</b><br/>&lt;br&gt;&lt;/br&gt;</p> <p><b>See you on the\\xa07th of July!<br/>Marta, Natalie &amp; Frans</b></p>', u'rsvps': [{u'user_id': 39980, u'when': 1309881442000L, u'guests': 0, u'response': u'yes'}, {u'user_id': 34217, u'when': 1309870186000L, u'guests': 0, u'response': u'yes'}, {u'user_id': 36559, u'when': 1309810051000L, u'guests': 1, u'response': u'yes'}, {u'user_id': 30877, u'when': 1309805384000L, u'guests': 2, u'response': u'yes'}, {u'user_id': 22290, u'when': 1309800571000L, u'guests': 0, u'response': u'yes'}, {u'user_id': 65384, u'when': 1309793559000L, u'guests': 0, u'response': u'yes'}, {u'user_id': 61274, u'when': 1309793818000L, u'guests': 0, u'response': u'yes'}, {u'user_id': 20901, u'when': 1309769694000L, u'guests': 1, u'response': u'yes'}, {u'user_id': 22295, u'when': 1309763871000L, u'guests': 2, u'response': u'yes'}, {u'user_id': 52867, u'when': 1309716645000L, u'guests': 0, u'response': u'yes'}, {u'user_id': 16775, u'when': 1309716393000L, u'guests': 2, u'response': u'yes'}, {u'user_id': 61810, u'when': 1309726315000L, u'guests': 1, u'response': u'yes'}, {u'user_id': 19232, u'when': 1309720058000L, u'guests': 0, u'response': u'yes'}, {u'user_id': 28688, u'when': 1309711432000L, u'guests': 0, u'response': u'yes'}, {u'user_id': 30788, u'when': 1309629667000L, u'guests': 0, u'response': u'no'}, {u'user_id': 41800, u'when': 1309520062000L, u'guests': 2, u'response': u'yes'}, {u'user_id': 31333, u'when': 1309509987000L, u'guests': 0, u'response': u'yes'}, {u'user_id': 29826, u'when': 1309505612000L, u'guests': 2, u'response': u'yes'}, {u'user_id': 41333, u'when': 1309477890000L, u'guests': 0, u'response': u'yes'}, {u'user_id': 26833, u'when': 1309462007000L, u'guests': 1, u'response': u'yes'}, {u'user_id': 22237, u'when': 1309455960000L, u'guests': 0, u'response': u'yes'}, {u'user_id': 46017, u'when': 1309450797000L, u'guests': 1, u'response': u'yes'}, {u'user_id': 21212, u'when': 1309441050000L, u'guests': 1, u'response': u'yes'}, {u'user_id': 37614, u'when': 1309444201000L, u'guests': 0, u'response': u'yes'}, {u'user_id': 23075, u'when': 1309445124000L, u'guests': 1, u'response': u'yes'}, {u'user_id': 62342, u'when': 1309446897000L, u'guests': 1, u'response': u'yes'}, {u'user_id': 65575, u'when': 1309434601000L, u'guests': 1, u'response': u'yes'}, {u'user_id': 59713, u'when': 1309434127000L, u'guests': 2, u'response': u'yes'}, {u'user_id': 28129, u'when': 1309434839000L, u'guests': 1, u'response': u'yes'}, {u'user_id': 18776, u'when': 1309434811000L, u'guests': 1, u'response': u'yes'}, {u'user_id': 45776, u'when': 1309436919000L, u'guests': 1, u'response': u'yes'}, {u'user_id': 32001, u'when': 1309428759000L, u'guests': 1, u'response': u'yes'}, {u'user_id': 21418, u'when': 1309378026000L, u'guests': 0, u'response': u'yes'}, {u'user_id': 65985, u'when': 1309378873000L, u'guests': 1, u'response': u'yes'}, {u'user_id': 17432, u'when': 1309332986000L, u'guests': 2, u'response': u'yes'}, {u'user_id': 47880, u'when': 1309248316000L, u'guests': 0, u'response': u'no'}, {u'user_id': 12434, u'when': 1309208777000L, u'guests': 0, u'response': u'yes'}, {u'user_id': 11369, u'when': 1309202908000L, u'guests': 0, u'response': u'yes'}, {u'user_id': 64313, u'when': 1309202412000L, u'guests': 0, u'response': u'yes'}, {u'user_id': 13115, u'when': 1309192902000L, u'guests': 1, u'response': u'yes'}, {u'user_id': 13792, u'when': 1309182033000L, u'guests': 1, u'response': u'yes'}, {u'user_id': 62390, u'when': 1309110140000L, u'guests': 2, u'response': u'yes'}, {u'user_id': 23334, u'when': 1309119926000L, u'guests': 0, u'response': u'no'}, {u'user_id': 62680, u'when': 1309105729000L, u'guests': 0, u'response': u'yes'}, {u'user_id': 45842, u'when': 1309099858000L, u'guests': 0, u'response': u'yes'}, {u'user_id': 39839, u'when': 1309100200000L, u'guests': 0, u'response': u'yes'}, {u'user_id': 28986, u'when': 1309088803000L, u'guests': 0, u'response': u'yes'}, {u'user_id': 46091, u'when': 1309093610000L, u'guests': 0, u'response': u'yes'}], u'rsvp_limit': None, u'created': 1309088803000L, u'time': 1310056200000L, u'duration': None, u'group_id': u'INTERNATIONALS-in-Rotterdam', u'name': u'INTERNATIONALS meet INTERNATIONALS- Midsummer afterwork drink'}\n"
     ]
    }
   ],
   "source": [
    "print df_events[0]"
   ]
  },
  {
   "cell_type": "code",
   "execution_count": null,
   "metadata": {
    "collapsed": true
   },
   "outputs": [],
   "source": []
  }
 ],
 "metadata": {
  "kernelspec": {
   "display_name": "Python 2",
   "language": "python",
   "name": "python2"
  },
  "language_info": {
   "codemirror_mode": {
    "name": "ipython",
    "version": 2
   },
   "file_extension": ".py",
   "mimetype": "text/x-python",
   "name": "python",
   "nbconvert_exporter": "python",
   "pygments_lexer": "ipython2",
   "version": "2.7.13"
  }
 },
 "nbformat": 4,
 "nbformat_minor": 1
}
