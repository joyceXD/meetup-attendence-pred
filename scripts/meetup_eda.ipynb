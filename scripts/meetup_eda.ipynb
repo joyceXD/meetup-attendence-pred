{
 "cells": [
  {
   "cell_type": "code",
   "execution_count": 30,
   "metadata": {
    "collapsed": false
   },
   "outputs": [],
   "source": [
    "import pandas as pd\n",
    "import json\n",
    "import feature_engg as engg\n",
    "import feature_util as utl"
   ]
  },
  {
   "cell_type": "code",
   "execution_count": 2,
   "metadata": {
    "collapsed": false
   },
   "outputs": [
    {
     "name": "stdout",
     "output_type": "stream",
     "text": [
      "<type 'list'>\n",
      "<type 'list'>\n",
      "<type 'list'>\n",
      "<type 'list'>\n"
     ]
    }
   ],
   "source": [
    "df_events = utl.get_df('../data/events.json', encoding='utf-8')\n",
    "df_groups = utl.get_df('../data/groups.json', encoding='utf-8')\n",
    "df_users = utl.get_df('../data/users.json', encoding='utf-8')\n",
    "df_venues = utl.get_df('../data/venues.json', encoding='utf-8')"
   ]
  },
  {
   "cell_type": "code",
   "execution_count": 14,
   "metadata": {
    "collapsed": true
   },
   "outputs": [],
   "source": [
    "df_events = df_events.assign(event_id=[i+1 for i in xrange(len(df_events))])"
   ]
  },
  {
   "cell_type": "code",
   "execution_count": 16,
   "metadata": {
    "collapsed": false
   },
   "outputs": [],
   "source": [
    "df_events_flat = utl.flatten_list(df_events, 'rsvps', reset_index=True)\n",
    "df_events_flat = utl.flatten_dict(df_events_flat, 'rsvps')\n",
    "df_events_flat['label'] = df_events_flat.response.apply(lambda x: engg.label_attendance(x))\n",
    "df_events_flat['total_att'] = df_events_flat.label + df_events_flat.guests"
   ]
  },
  {
   "cell_type": "code",
   "execution_count": 74,
   "metadata": {
    "collapsed": false
   },
   "outputs": [
    {
     "data": {
      "text/plain": [
       "count    174139.000000\n",
       "mean          0.754380\n",
       "std           0.585873\n",
       "min           0.000000\n",
       "25%           0.000000\n",
       "50%           1.000000\n",
       "75%           1.000000\n",
       "max          46.000000\n",
       "Name: total_att, dtype: float64"
      ]
     },
     "execution_count": 74,
     "metadata": {},
     "output_type": "execute_result"
    }
   ],
   "source": [
    "df_events_flat.total_att.describe()"
   ]
  },
  {
   "cell_type": "code",
   "execution_count": 59,
   "metadata": {
    "collapsed": false
   },
   "outputs": [
    {
     "name": "stdout",
     "output_type": "stream",
     "text": [
      "Response summary: \n",
      "yes         119556\n",
      "no           52551\n",
      "waitlist      2032\n",
      "Name: response, dtype: int64\n",
      "\n",
      "Guest count summary: \n",
      "count    174139.000000\n",
      "mean          0.056156\n",
      "std           0.314316\n",
      "min           0.000000\n",
      "25%           0.000000\n",
      "50%           0.000000\n",
      "75%           0.000000\n",
      "max          45.000000\n",
      "Name: guests, dtype: float64\n"
     ]
    }
   ],
   "source": [
    "print 'Response summary: \\n', df_events_flat.response.value_counts()\n",
    "print '\\nGuest count summary: \\n', df_events_flat.guests.describe()"
   ]
  },
  {
   "cell_type": "code",
   "execution_count": 62,
   "metadata": {
    "collapsed": false
   },
   "outputs": [],
   "source": [
    "n_events_peruser = df_events_flat.groupby(['user_id']).agg({'label': 'sum'}).reset_index()"
   ]
  },
  {
   "cell_type": "code",
   "execution_count": 64,
   "metadata": {
    "collapsed": false
   },
   "outputs": [
    {
     "name": "stdout",
     "output_type": "stream",
     "text": [
      "Number of events attended per user: \n",
      "count    37356.000000\n",
      "mean         3.254845\n",
      "std          7.136120\n",
      "min          0.000000\n",
      "25%          1.000000\n",
      "50%          1.000000\n",
      "75%          3.000000\n",
      "max        362.000000\n",
      "Name: label, dtype: float64\n"
     ]
    }
   ],
   "source": [
    "print 'Number of events attended per user: \\n', n_events_peruser.label.describe()"
   ]
  },
  {
   "cell_type": "code",
   "execution_count": 68,
   "metadata": {
    "collapsed": false
   },
   "outputs": [
    {
     "name": "stdout",
     "output_type": "stream",
     "text": [
      "Status of events:\n",
      "past         166170\n",
      "upcoming       6279\n",
      "cancelled      1536\n",
      "proposed        151\n",
      "suggested         3\n",
      "Name: status, dtype: int64\n"
     ]
    }
   ],
   "source": [
    "print 'Status of events:\\n', df_events_flat.status.value_counts()"
   ]
  },
  {
   "cell_type": "code",
   "execution_count": null,
   "metadata": {
    "collapsed": true
   },
   "outputs": [],
   "source": []
  }
 ],
 "metadata": {
  "kernelspec": {
   "display_name": "Python 2",
   "language": "python",
   "name": "python2"
  },
  "language_info": {
   "codemirror_mode": {
    "name": "ipython",
    "version": 2
   },
   "file_extension": ".py",
   "mimetype": "text/x-python",
   "name": "python",
   "nbconvert_exporter": "python",
   "pygments_lexer": "ipython2",
   "version": "2.7.13"
  }
 },
 "nbformat": 4,
 "nbformat_minor": 0
}
